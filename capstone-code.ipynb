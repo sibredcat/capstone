{
 "cells": [
  {
   "cell_type": "markdown",
   "metadata": {},
   "source": [
    "# Machine Learning Engineer Nanodegree\n",
    "## Capstone Project\n",
    "\n",
    "Vladimir Baranov\n",
    "\n",
    "January 12th, 2018"
   ]
  },
  {
   "cell_type": "markdown",
   "metadata": {},
   "source": [
    "\n",
    "## II. Analysis"
   ]
  },
  {
   "cell_type": "markdown",
   "metadata": {},
   "source": [
    "### Data Exploration"
   ]
  },
  {
   "cell_type": "code",
   "execution_count": 1,
   "metadata": {},
   "outputs": [
    {
     "name": "stderr",
     "output_type": "stream",
     "text": [
      "C:\\Users\\Vladimir\\Anaconda2\\lib\\site-packages\\sklearn\\cross_validation.py:44: DeprecationWarning: This module was deprecated in version 0.18 in favor of the model_selection module into which all the refactored classes and functions are moved. Also note that the interface of the new CV iterators are different from that of this module. This module will be removed in 0.20.\n",
      "  \"This module will be removed in 0.20.\", DeprecationWarning)\n"
     ]
    }
   ],
   "source": [
    "# Import libraries necessary for this project\n",
    "import numpy as np\n",
    "import pandas as pd\n",
    "from time import time\n",
    "import seaborn as sns\n",
    "import matplotlib.pyplot as plt\n",
    "from IPython.display import display # Allows the use of display() for DataFrames\n",
    "from datetime import datetime\n",
    "from sklearn.preprocessing import LabelEncoder\n",
    "from sklearn.metrics import classification_report\n",
    "from sklearn.linear_model import LogisticRegression\n",
    "from sklearn.ensemble import AdaBoostClassifier\n",
    "from sklearn.svm import SVC\n",
    "from sklearn.svm import LinearSVC\n",
    "from sklearn.calibration import CalibratedClassifierCV\n",
    "from sklearn.model_selection import train_test_split\n",
    "from xgboost.sklearn import XGBClassifier\n",
    "from sklearn.model_selection import GridSearchCV\n",
    "from IPython.display import Image\n",
    "\n",
    "# Pretty display for notebooks\n",
    "%matplotlib inline\n",
    "\n",
    "# Set figure aesthetics\n",
    "sns.set_style(\"white\", {'ytick.major.size': 10.0})\n",
    "sns.set_context(\"poster\", font_scale=1.1)"
   ]
  },
  {
   "cell_type": "code",
   "execution_count": 50,
   "metadata": {
    "collapsed": true,
    "scrolled": false
   },
   "outputs": [],
   "source": [
    "#Read the data\n",
    "data_train = pd.read_csv(\"data/train_users_2.csv\",parse_dates=[1,2])\n",
    "data_test=pd.read_csv(\"data/test_users.csv\",parse_dates=[1,2])\n",
    "data_train_len=data_train.shape[0]\n",
    "data_test_len=data_test.shape[0]"
   ]
  },
  {
   "cell_type": "code",
   "execution_count": 51,
   "metadata": {},
   "outputs": [
    {
     "data": {
      "text/html": [
       "<div>\n",
       "<style>\n",
       "    .dataframe thead tr:only-child th {\n",
       "        text-align: right;\n",
       "    }\n",
       "\n",
       "    .dataframe thead th {\n",
       "        text-align: left;\n",
       "    }\n",
       "\n",
       "    .dataframe tbody tr th {\n",
       "        vertical-align: top;\n",
       "    }\n",
       "</style>\n",
       "<table border=\"1\" class=\"dataframe\">\n",
       "  <thead>\n",
       "    <tr style=\"text-align: right;\">\n",
       "      <th></th>\n",
       "      <th>0</th>\n",
       "      <th>1</th>\n",
       "      <th>2</th>\n",
       "      <th>3</th>\n",
       "      <th>4</th>\n",
       "    </tr>\n",
       "  </thead>\n",
       "  <tbody>\n",
       "    <tr>\n",
       "      <th>id</th>\n",
       "      <td>gxn3p5htnn</td>\n",
       "      <td>820tgsjxq7</td>\n",
       "      <td>4ft3gnwmtx</td>\n",
       "      <td>bjjt8pjhuk</td>\n",
       "      <td>87mebub9p4</td>\n",
       "    </tr>\n",
       "    <tr>\n",
       "      <th>date_account_created</th>\n",
       "      <td>2010-06-28 00:00:00</td>\n",
       "      <td>2011-05-25 00:00:00</td>\n",
       "      <td>2010-09-28 00:00:00</td>\n",
       "      <td>2011-12-05 00:00:00</td>\n",
       "      <td>2010-09-14 00:00:00</td>\n",
       "    </tr>\n",
       "    <tr>\n",
       "      <th>timestamp_first_active</th>\n",
       "      <td>2009-03-19 04:32:55</td>\n",
       "      <td>2009-05-23 17:48:09</td>\n",
       "      <td>2009-06-09 23:12:47</td>\n",
       "      <td>2009-10-31 06:01:29</td>\n",
       "      <td>2009-12-08 06:11:05</td>\n",
       "    </tr>\n",
       "    <tr>\n",
       "      <th>date_first_booking</th>\n",
       "      <td>NaN</td>\n",
       "      <td>NaN</td>\n",
       "      <td>2010-08-02</td>\n",
       "      <td>2012-09-08</td>\n",
       "      <td>2010-02-18</td>\n",
       "    </tr>\n",
       "    <tr>\n",
       "      <th>gender</th>\n",
       "      <td>-unknown-</td>\n",
       "      <td>MALE</td>\n",
       "      <td>FEMALE</td>\n",
       "      <td>FEMALE</td>\n",
       "      <td>-unknown-</td>\n",
       "    </tr>\n",
       "    <tr>\n",
       "      <th>age</th>\n",
       "      <td>NaN</td>\n",
       "      <td>38</td>\n",
       "      <td>56</td>\n",
       "      <td>42</td>\n",
       "      <td>41</td>\n",
       "    </tr>\n",
       "    <tr>\n",
       "      <th>signup_method</th>\n",
       "      <td>facebook</td>\n",
       "      <td>facebook</td>\n",
       "      <td>basic</td>\n",
       "      <td>facebook</td>\n",
       "      <td>basic</td>\n",
       "    </tr>\n",
       "    <tr>\n",
       "      <th>signup_flow</th>\n",
       "      <td>0</td>\n",
       "      <td>0</td>\n",
       "      <td>3</td>\n",
       "      <td>0</td>\n",
       "      <td>0</td>\n",
       "    </tr>\n",
       "    <tr>\n",
       "      <th>language</th>\n",
       "      <td>en</td>\n",
       "      <td>en</td>\n",
       "      <td>en</td>\n",
       "      <td>en</td>\n",
       "      <td>en</td>\n",
       "    </tr>\n",
       "    <tr>\n",
       "      <th>affiliate_channel</th>\n",
       "      <td>direct</td>\n",
       "      <td>seo</td>\n",
       "      <td>direct</td>\n",
       "      <td>direct</td>\n",
       "      <td>direct</td>\n",
       "    </tr>\n",
       "    <tr>\n",
       "      <th>affiliate_provider</th>\n",
       "      <td>direct</td>\n",
       "      <td>google</td>\n",
       "      <td>direct</td>\n",
       "      <td>direct</td>\n",
       "      <td>direct</td>\n",
       "    </tr>\n",
       "    <tr>\n",
       "      <th>first_affiliate_tracked</th>\n",
       "      <td>untracked</td>\n",
       "      <td>untracked</td>\n",
       "      <td>untracked</td>\n",
       "      <td>untracked</td>\n",
       "      <td>untracked</td>\n",
       "    </tr>\n",
       "    <tr>\n",
       "      <th>signup_app</th>\n",
       "      <td>Web</td>\n",
       "      <td>Web</td>\n",
       "      <td>Web</td>\n",
       "      <td>Web</td>\n",
       "      <td>Web</td>\n",
       "    </tr>\n",
       "    <tr>\n",
       "      <th>first_device_type</th>\n",
       "      <td>Mac Desktop</td>\n",
       "      <td>Mac Desktop</td>\n",
       "      <td>Windows Desktop</td>\n",
       "      <td>Mac Desktop</td>\n",
       "      <td>Mac Desktop</td>\n",
       "    </tr>\n",
       "    <tr>\n",
       "      <th>first_browser</th>\n",
       "      <td>Chrome</td>\n",
       "      <td>Chrome</td>\n",
       "      <td>IE</td>\n",
       "      <td>Firefox</td>\n",
       "      <td>Chrome</td>\n",
       "    </tr>\n",
       "    <tr>\n",
       "      <th>country_destination</th>\n",
       "      <td>NDF</td>\n",
       "      <td>NDF</td>\n",
       "      <td>US</td>\n",
       "      <td>other</td>\n",
       "      <td>US</td>\n",
       "    </tr>\n",
       "  </tbody>\n",
       "</table>\n",
       "</div>"
      ],
      "text/plain": [
       "                                           0                    1  \\\n",
       "id                                gxn3p5htnn           820tgsjxq7   \n",
       "date_account_created     2010-06-28 00:00:00  2011-05-25 00:00:00   \n",
       "timestamp_first_active   2009-03-19 04:32:55  2009-05-23 17:48:09   \n",
       "date_first_booking                       NaN                  NaN   \n",
       "gender                             -unknown-                 MALE   \n",
       "age                                      NaN                   38   \n",
       "signup_method                       facebook             facebook   \n",
       "signup_flow                                0                    0   \n",
       "language                                  en                   en   \n",
       "affiliate_channel                     direct                  seo   \n",
       "affiliate_provider                    direct               google   \n",
       "first_affiliate_tracked            untracked            untracked   \n",
       "signup_app                               Web                  Web   \n",
       "first_device_type                Mac Desktop          Mac Desktop   \n",
       "first_browser                         Chrome               Chrome   \n",
       "country_destination                      NDF                  NDF   \n",
       "\n",
       "                                           2                    3  \\\n",
       "id                                4ft3gnwmtx           bjjt8pjhuk   \n",
       "date_account_created     2010-09-28 00:00:00  2011-12-05 00:00:00   \n",
       "timestamp_first_active   2009-06-09 23:12:47  2009-10-31 06:01:29   \n",
       "date_first_booking                2010-08-02           2012-09-08   \n",
       "gender                                FEMALE               FEMALE   \n",
       "age                                       56                   42   \n",
       "signup_method                          basic             facebook   \n",
       "signup_flow                                3                    0   \n",
       "language                                  en                   en   \n",
       "affiliate_channel                     direct               direct   \n",
       "affiliate_provider                    direct               direct   \n",
       "first_affiliate_tracked            untracked            untracked   \n",
       "signup_app                               Web                  Web   \n",
       "first_device_type            Windows Desktop          Mac Desktop   \n",
       "first_browser                             IE              Firefox   \n",
       "country_destination                       US                other   \n",
       "\n",
       "                                           4  \n",
       "id                                87mebub9p4  \n",
       "date_account_created     2010-09-14 00:00:00  \n",
       "timestamp_first_active   2009-12-08 06:11:05  \n",
       "date_first_booking                2010-02-18  \n",
       "gender                             -unknown-  \n",
       "age                                       41  \n",
       "signup_method                          basic  \n",
       "signup_flow                                0  \n",
       "language                                  en  \n",
       "affiliate_channel                     direct  \n",
       "affiliate_provider                    direct  \n",
       "first_affiliate_tracked            untracked  \n",
       "signup_app                               Web  \n",
       "first_device_type                Mac Desktop  \n",
       "first_browser                         Chrome  \n",
       "country_destination                       US  "
      ]
     },
     "metadata": {},
     "output_type": "display_data"
    },
    {
     "name": "stdout",
     "output_type": "stream",
     "text": [
      "Number of rows, columns in training set: (213451, 16)\n"
     ]
    },
    {
     "data": {
      "text/html": [
       "<div>\n",
       "<style>\n",
       "    .dataframe thead tr:only-child th {\n",
       "        text-align: right;\n",
       "    }\n",
       "\n",
       "    .dataframe thead th {\n",
       "        text-align: left;\n",
       "    }\n",
       "\n",
       "    .dataframe tbody tr th {\n",
       "        vertical-align: top;\n",
       "    }\n",
       "</style>\n",
       "<table border=\"1\" class=\"dataframe\">\n",
       "  <thead>\n",
       "    <tr style=\"text-align: right;\">\n",
       "      <th></th>\n",
       "      <th>0</th>\n",
       "      <th>1</th>\n",
       "      <th>2</th>\n",
       "      <th>3</th>\n",
       "      <th>4</th>\n",
       "    </tr>\n",
       "  </thead>\n",
       "  <tbody>\n",
       "    <tr>\n",
       "      <th>id</th>\n",
       "      <td>5uwns89zht</td>\n",
       "      <td>jtl0dijy2j</td>\n",
       "      <td>xx0ulgorjt</td>\n",
       "      <td>6c6puo6ix0</td>\n",
       "      <td>czqhjk3yfe</td>\n",
       "    </tr>\n",
       "    <tr>\n",
       "      <th>date_account_created</th>\n",
       "      <td>2014-07-01 00:00:00</td>\n",
       "      <td>2014-07-01 00:00:00</td>\n",
       "      <td>2014-07-01 00:00:00</td>\n",
       "      <td>2014-07-01 00:00:00</td>\n",
       "      <td>2014-07-01 00:00:00</td>\n",
       "    </tr>\n",
       "    <tr>\n",
       "      <th>timestamp_first_active</th>\n",
       "      <td>2014-07-01 00:00:06</td>\n",
       "      <td>2014-07-01 00:00:51</td>\n",
       "      <td>2014-07-01 00:01:48</td>\n",
       "      <td>2014-07-01 00:02:15</td>\n",
       "      <td>2014-07-01 00:03:05</td>\n",
       "    </tr>\n",
       "    <tr>\n",
       "      <th>date_first_booking</th>\n",
       "      <td>NaN</td>\n",
       "      <td>NaN</td>\n",
       "      <td>NaN</td>\n",
       "      <td>NaN</td>\n",
       "      <td>NaN</td>\n",
       "    </tr>\n",
       "    <tr>\n",
       "      <th>gender</th>\n",
       "      <td>FEMALE</td>\n",
       "      <td>-unknown-</td>\n",
       "      <td>-unknown-</td>\n",
       "      <td>-unknown-</td>\n",
       "      <td>-unknown-</td>\n",
       "    </tr>\n",
       "    <tr>\n",
       "      <th>age</th>\n",
       "      <td>35</td>\n",
       "      <td>NaN</td>\n",
       "      <td>NaN</td>\n",
       "      <td>NaN</td>\n",
       "      <td>NaN</td>\n",
       "    </tr>\n",
       "    <tr>\n",
       "      <th>signup_method</th>\n",
       "      <td>facebook</td>\n",
       "      <td>basic</td>\n",
       "      <td>basic</td>\n",
       "      <td>basic</td>\n",
       "      <td>basic</td>\n",
       "    </tr>\n",
       "    <tr>\n",
       "      <th>signup_flow</th>\n",
       "      <td>0</td>\n",
       "      <td>0</td>\n",
       "      <td>0</td>\n",
       "      <td>0</td>\n",
       "      <td>0</td>\n",
       "    </tr>\n",
       "    <tr>\n",
       "      <th>language</th>\n",
       "      <td>en</td>\n",
       "      <td>en</td>\n",
       "      <td>en</td>\n",
       "      <td>en</td>\n",
       "      <td>en</td>\n",
       "    </tr>\n",
       "    <tr>\n",
       "      <th>affiliate_channel</th>\n",
       "      <td>direct</td>\n",
       "      <td>direct</td>\n",
       "      <td>direct</td>\n",
       "      <td>direct</td>\n",
       "      <td>direct</td>\n",
       "    </tr>\n",
       "    <tr>\n",
       "      <th>affiliate_provider</th>\n",
       "      <td>direct</td>\n",
       "      <td>direct</td>\n",
       "      <td>direct</td>\n",
       "      <td>direct</td>\n",
       "      <td>direct</td>\n",
       "    </tr>\n",
       "    <tr>\n",
       "      <th>first_affiliate_tracked</th>\n",
       "      <td>untracked</td>\n",
       "      <td>untracked</td>\n",
       "      <td>linked</td>\n",
       "      <td>linked</td>\n",
       "      <td>untracked</td>\n",
       "    </tr>\n",
       "    <tr>\n",
       "      <th>signup_app</th>\n",
       "      <td>Moweb</td>\n",
       "      <td>Moweb</td>\n",
       "      <td>Web</td>\n",
       "      <td>Web</td>\n",
       "      <td>Web</td>\n",
       "    </tr>\n",
       "    <tr>\n",
       "      <th>first_device_type</th>\n",
       "      <td>iPhone</td>\n",
       "      <td>iPhone</td>\n",
       "      <td>Windows Desktop</td>\n",
       "      <td>Windows Desktop</td>\n",
       "      <td>Mac Desktop</td>\n",
       "    </tr>\n",
       "    <tr>\n",
       "      <th>first_browser</th>\n",
       "      <td>Mobile Safari</td>\n",
       "      <td>Mobile Safari</td>\n",
       "      <td>Chrome</td>\n",
       "      <td>IE</td>\n",
       "      <td>Safari</td>\n",
       "    </tr>\n",
       "  </tbody>\n",
       "</table>\n",
       "</div>"
      ],
      "text/plain": [
       "                                           0                    1  \\\n",
       "id                                5uwns89zht           jtl0dijy2j   \n",
       "date_account_created     2014-07-01 00:00:00  2014-07-01 00:00:00   \n",
       "timestamp_first_active   2014-07-01 00:00:06  2014-07-01 00:00:51   \n",
       "date_first_booking                       NaN                  NaN   \n",
       "gender                                FEMALE            -unknown-   \n",
       "age                                       35                  NaN   \n",
       "signup_method                       facebook                basic   \n",
       "signup_flow                                0                    0   \n",
       "language                                  en                   en   \n",
       "affiliate_channel                     direct               direct   \n",
       "affiliate_provider                    direct               direct   \n",
       "first_affiliate_tracked            untracked            untracked   \n",
       "signup_app                             Moweb                Moweb   \n",
       "first_device_type                     iPhone               iPhone   \n",
       "first_browser                  Mobile Safari        Mobile Safari   \n",
       "\n",
       "                                           2                    3  \\\n",
       "id                                xx0ulgorjt           6c6puo6ix0   \n",
       "date_account_created     2014-07-01 00:00:00  2014-07-01 00:00:00   \n",
       "timestamp_first_active   2014-07-01 00:01:48  2014-07-01 00:02:15   \n",
       "date_first_booking                       NaN                  NaN   \n",
       "gender                             -unknown-            -unknown-   \n",
       "age                                      NaN                  NaN   \n",
       "signup_method                          basic                basic   \n",
       "signup_flow                                0                    0   \n",
       "language                                  en                   en   \n",
       "affiliate_channel                     direct               direct   \n",
       "affiliate_provider                    direct               direct   \n",
       "first_affiliate_tracked               linked               linked   \n",
       "signup_app                               Web                  Web   \n",
       "first_device_type            Windows Desktop      Windows Desktop   \n",
       "first_browser                         Chrome                   IE   \n",
       "\n",
       "                                           4  \n",
       "id                                czqhjk3yfe  \n",
       "date_account_created     2014-07-01 00:00:00  \n",
       "timestamp_first_active   2014-07-01 00:03:05  \n",
       "date_first_booking                       NaN  \n",
       "gender                             -unknown-  \n",
       "age                                      NaN  \n",
       "signup_method                          basic  \n",
       "signup_flow                                0  \n",
       "language                                  en  \n",
       "affiliate_channel                     direct  \n",
       "affiliate_provider                    direct  \n",
       "first_affiliate_tracked            untracked  \n",
       "signup_app                               Web  \n",
       "first_device_type                Mac Desktop  \n",
       "first_browser                         Safari  "
      ]
     },
     "metadata": {},
     "output_type": "display_data"
    },
    {
     "name": "stdout",
     "output_type": "stream",
     "text": [
      "Number of rows, columns in test set: (62096, 15)\n"
     ]
    }
   ],
   "source": [
    "display(data_train.T.iloc[:,0:5])\n",
    "print \"Number of rows, columns in training set: \" + str(data_train.shape)\n",
    "display(data_test.T.iloc[:,0:5])\n",
    "print \"Number of rows, columns in test set: \" + str(data_test.shape)"
   ]
  },
  {
   "cell_type": "markdown",
   "metadata": {},
   "source": [
    "Here is the list of features in the main dataset:\n",
    "\n",
    "* **date_account_created**: yyyy-mm-dd\n",
    "* **timestamp_first_active**: yyyy-mm-dd hh:mm:ss\n",
    "* **gender**: 'male','female', NaN\n",
    "* **age**: continuous, NaN \n",
    "* **signup_method**: 'basic', 'facebook', 'google', 'weibo'\n",
    "* **signup_flow**: 0, 25, 12,  3,  2, 23, 24,  1,  8,  6, 21,  5, 20, 16, 15, 14, 10, 4 (categorical)\n",
    "* **language**: 'en', 'zh', 'fr', 'es', 'ko', 'de', 'it', 'ru', 'ja', 'pt', 'sv', 'nl', 'tr', 'da', 'pl', 'no', 'cs', 'el', 'th', 'hu', 'id', 'fi', 'ca', 'is', 'hr', nan\n",
    "* **affiliate_channel**: 'direct', 'sem-brand', 'sem-non-brand', 'seo', 'other', 'api', 'content', 'remarketing'\n",
    "* **affiliate_provider**: 'direct', 'google', 'other', 'facebook', 'bing', 'craigslist', 'padmapper', 'vast', 'yahoo', 'facebook-open-graph', 'gsp', 'meetup', 'email-marketing', 'naver', 'baidu', 'yandex', 'wayn', 'daum'\n",
    "* **first_affiliate_tracked**: nan, 'linked', 'omg', 'tracked-other', 'product', 'marketing', 'local ops'\n",
    "* **signup_app**: 'Web', 'iOS', 'Android', 'Moweb'\n",
    "* **first_device_type**: 'Mac Desktop', 'Windows Desktop', 'iPhone', 'iPad', 'Other/Unknown', 'Android Phone', 'Android Tablet', 'Desktop (Other)', 'SmartPhone (Other)'\n",
    "* **first_browser**: 'Chrome', 'Safari', nan, 'Firefox', 'Mobile Safari', 'IE', 'Chrome Mobile', 'Android Browser', 'AOL Explorer', 'Opera', 'Silk', 'IE Mobile', 'BlackBerry Browser', 'Chromium', 'Mobile Firefox', 'Maxthon', 'Apple Mail', 'Sogou Explorer', 'SiteKiosk', 'RockMelt', 'Iron', 'Yandex.Browser', 'IceWeasel', 'Pale Moon', 'CometBird', 'SeaMonkey', 'Camino', 'TenFourFox', 'Opera Mini', 'wOSBrowser', 'CoolNovo', 'Avant Browser', 'Opera Mobile', 'Mozilla', 'SlimBrowser', 'Comodo Dragon', 'OmniWeb', 'Crazy Browser', 'TheWorld Browser', 'Flock', 'PS Vita browser', 'IceDragon', 'Googlebot', 'Conkeror', 'Arora', 'UC Browser', 'Stainless', 'Google Earth', 'IBrowse', 'NetNewsWire', 'Kindle Browser', 'Outlook 2007', 'Nintendo Browser', 'Palm Pre web browser', 'Epic'"
   ]
  },
  {
   "cell_type": "code",
   "execution_count": 52,
   "metadata": {},
   "outputs": [
    {
     "name": "stdout",
     "output_type": "stream",
     "text": [
      "Number of rows, columns in combined dataset: (275547, 15)\n"
     ]
    }
   ],
   "source": [
    "# Separating labels\n",
    "target=data_train.country_destination\n",
    "data_train = data_train.drop(['country_destination'], axis=1)\n",
    "\n",
    "# Combining train and test dataset for cleaning\n",
    "data = pd.concat((data_train, data_test), axis=0, ignore_index=True)\n",
    "\n",
    "print \"Number of rows, columns in combined dataset: \" + str(data.shape)"
   ]
  },
  {
   "cell_type": "code",
   "execution_count": 5,
   "metadata": {},
   "outputs": [
    {
     "data": {
      "text/plain": [
       "NDF      124543\n",
       "US        62376\n",
       "other     10094\n",
       "FR         5023\n",
       "IT         2835\n",
       "GB         2324\n",
       "ES         2249\n",
       "CA         1428\n",
       "DE         1061\n",
       "NL          762\n",
       "AU          539\n",
       "PT          217\n",
       "Name: country_destination, dtype: int64"
      ]
     },
     "execution_count": 5,
     "metadata": {},
     "output_type": "execute_result"
    }
   ],
   "source": [
    "target.value_counts()"
   ]
  },
  {
   "cell_type": "code",
   "execution_count": 53,
   "metadata": {
    "collapsed": true
   },
   "outputs": [],
   "source": [
    "#Replacing '-unknown-', 'untracked', and 'OTHER' with NaN\n",
    "data.replace('-unknown-',np.nan,inplace=True)\n",
    "data.replace('untracked',np.nan,inplace=True)\n",
    "data_test.replace('-unknown-',np.nan,inplace=True)\n",
    "data_test.replace('untracked',np.nan,inplace=True)\n",
    "data_train.replace('-unknown-',np.nan,inplace=True)\n",
    "data_train.replace('untracked',np.nan,inplace=True)\n",
    "data.replace('OTHER',np.nan,inplace=True)\n",
    "data_test.replace('OTHER',np.nan,inplace=True)\n",
    "data_train.replace('OTHER',np.nan,inplace=True)"
   ]
  },
  {
   "cell_type": "code",
   "execution_count": 54,
   "metadata": {
    "scrolled": false
   },
   "outputs": [
    {
     "name": "stdout",
     "output_type": "stream",
     "text": [
      "Statistical analysis of data:\n",
      "\n"
     ]
    },
    {
     "data": {
      "text/html": [
       "<div>\n",
       "<style>\n",
       "    .dataframe thead tr:only-child th {\n",
       "        text-align: right;\n",
       "    }\n",
       "\n",
       "    .dataframe thead th {\n",
       "        text-align: left;\n",
       "    }\n",
       "\n",
       "    .dataframe tbody tr th {\n",
       "        vertical-align: top;\n",
       "    }\n",
       "</style>\n",
       "<table border=\"1\" class=\"dataframe\">\n",
       "  <thead>\n",
       "    <tr style=\"text-align: right;\">\n",
       "      <th></th>\n",
       "      <th>age</th>\n",
       "      <th>signup_flow</th>\n",
       "    </tr>\n",
       "  </thead>\n",
       "  <tbody>\n",
       "    <tr>\n",
       "      <th>count</th>\n",
       "      <td>158681.000000</td>\n",
       "      <td>275547.000000</td>\n",
       "    </tr>\n",
       "    <tr>\n",
       "      <th>mean</th>\n",
       "      <td>47.145310</td>\n",
       "      <td>4.291965</td>\n",
       "    </tr>\n",
       "    <tr>\n",
       "      <th>std</th>\n",
       "      <td>142.629468</td>\n",
       "      <td>8.794313</td>\n",
       "    </tr>\n",
       "    <tr>\n",
       "      <th>min</th>\n",
       "      <td>1.000000</td>\n",
       "      <td>0.000000</td>\n",
       "    </tr>\n",
       "    <tr>\n",
       "      <th>25%</th>\n",
       "      <td>28.000000</td>\n",
       "      <td>0.000000</td>\n",
       "    </tr>\n",
       "    <tr>\n",
       "      <th>50%</th>\n",
       "      <td>33.000000</td>\n",
       "      <td>0.000000</td>\n",
       "    </tr>\n",
       "    <tr>\n",
       "      <th>75%</th>\n",
       "      <td>42.000000</td>\n",
       "      <td>1.000000</td>\n",
       "    </tr>\n",
       "    <tr>\n",
       "      <th>max</th>\n",
       "      <td>2014.000000</td>\n",
       "      <td>25.000000</td>\n",
       "    </tr>\n",
       "  </tbody>\n",
       "</table>\n",
       "</div>"
      ],
      "text/plain": [
       "                 age    signup_flow\n",
       "count  158681.000000  275547.000000\n",
       "mean       47.145310       4.291965\n",
       "std       142.629468       8.794313\n",
       "min         1.000000       0.000000\n",
       "25%        28.000000       0.000000\n",
       "50%        33.000000       0.000000\n",
       "75%        42.000000       1.000000\n",
       "max      2014.000000      25.000000"
      ]
     },
     "metadata": {},
     "output_type": "display_data"
    },
    {
     "name": "stdout",
     "output_type": "stream",
     "text": [
      "The percentage of missing data in training set:\n"
     ]
    },
    {
     "data": {
      "text/plain": [
       "id                          0.000000\n",
       "date_account_created        0.000000\n",
       "timestamp_first_active      0.000000\n",
       "date_first_booking         58.347349\n",
       "gender                     44.961139\n",
       "age                        41.222576\n",
       "signup_method               0.000000\n",
       "signup_flow                 0.000000\n",
       "language                    0.000000\n",
       "affiliate_channel           0.000000\n",
       "affiliate_provider          0.000000\n",
       "first_affiliate_tracked    54.015676\n",
       "signup_app                  0.000000\n",
       "first_device_type           0.000000\n",
       "first_browser              12.773892\n",
       "dtype: float64"
      ]
     },
     "metadata": {},
     "output_type": "display_data"
    },
    {
     "name": "stdout",
     "output_type": "stream",
     "text": [
      "The percentage of missing data in test set:\n"
     ]
    },
    {
     "data": {
      "text/plain": [
       "id                           0.000000\n",
       "date_account_created         0.000000\n",
       "timestamp_first_active       0.000000\n",
       "date_first_booking         100.000000\n",
       "gender                      54.502705\n",
       "age                         46.502190\n",
       "signup_method                0.000000\n",
       "signup_flow                  0.000000\n",
       "language                     0.001610\n",
       "affiliate_channel            0.000000\n",
       "affiliate_provider           0.000000\n",
       "first_affiliate_tracked     54.704007\n",
       "signup_app                   0.000000\n",
       "first_device_type            0.000000\n",
       "first_browser               27.583097\n",
       "dtype: float64"
      ]
     },
     "metadata": {},
     "output_type": "display_data"
    },
    {
     "name": "stdout",
     "output_type": "stream",
     "text": [
      "The percentage of missing data in combined set:\n"
     ]
    },
    {
     "data": {
      "text/plain": [
       "id                         0.000000\n",
       "date_account_created       0.000000\n",
       "timestamp_first_active     0.000000\n",
       "date_first_booking         0.677340\n",
       "gender                     0.471114\n",
       "age                        0.424124\n",
       "signup_method              0.000000\n",
       "signup_flow                0.000000\n",
       "language                   0.000004\n",
       "affiliate_channel          0.000000\n",
       "affiliate_provider         0.000000\n",
       "first_affiliate_tracked    0.541708\n",
       "signup_app                 0.000000\n",
       "first_device_type          0.000000\n",
       "first_browser              0.161112\n",
       "dtype: float64"
      ]
     },
     "metadata": {},
     "output_type": "display_data"
    }
   ],
   "source": [
    "#Statistical analysis of data\n",
    "print 'Statistical analysis of data:\\n'\n",
    "display(data.describe())\n",
    "#Checking the percentage of missing data\n",
    "print \"The percentage of missing data in training set:\"\n",
    "display(pd.isnull(data_train).sum()/data_train.shape[0]*100)\n",
    "print \"The percentage of missing data in test set:\"\n",
    "display(pd.isnull(data_test).sum()/data_test.shape[0]*100)\n",
    "print \"The percentage of missing data in combined set:\"\n",
    "display(pd.isnull(data).sum()/data.shape[0])"
   ]
  },
  {
   "cell_type": "code",
   "execution_count": 55,
   "metadata": {},
   "outputs": [
    {
     "name": "stdout",
     "output_type": "stream",
     "text": [
      "Number of rows, columns in sessions set: (213451, 15)\n"
     ]
    }
   ],
   "source": [
    "# Load session data\n",
    "sessions = pd.read_csv('data/sessions.csv')\n",
    "sessions.head()\n",
    "print \"Number of rows, columns in sessions set: \" + str(data_train.shape)"
   ]
  },
  {
   "cell_type": "markdown",
   "metadata": {},
   "source": [
    "The sessions set has 6 features. It contains information of different user sessions in each line totalling to 10567737 lines. "
   ]
  },
  {
   "cell_type": "markdown",
   "metadata": {},
   "source": [
    "### Exploratory Visualization"
   ]
  },
  {
   "cell_type": "markdown",
   "metadata": {},
   "source": [
    "Let us visualize some properties of our dataset."
   ]
  },
  {
   "cell_type": "code",
   "execution_count": 9,
   "metadata": {},
   "outputs": [
    {
     "data": {
      "image/png": "[encoded data removed]",
      "text/plain": [
       "<matplotlib.figure.Figure at 0x1429d518>"
      ]
     },
     "metadata": {},
     "output_type": "display_data"
    }
   ],
   "source": [
    "target.value_counts(normalize=True).plot(kind='bar')\n",
    "plt.xlabel('Destination country')\n",
    "plt.ylabel('Frequency')\n",
    "sns.despine()"
   ]
  },
  {
   "cell_type": "markdown",
   "metadata": {},
   "source": [
    "As we pointed out earlier, the major category is 'NDF', followed by 'US'. This two categories correspond to about 90% of the data."
   ]
  },
  {
   "cell_type": "code",
   "execution_count": 10,
   "metadata": {},
   "outputs": [
    {
     "data": {
      "image/png": "[encoded data removed]",
      "text/plain": [
       "<matplotlib.figure.Figure at 0x19f5ee48>"
      ]
     },
     "metadata": {},
     "output_type": "display_data"
    }
   ],
   "source": [
    "data.gender.value_counts(dropna=False,normalize=True).plot(kind='bar', rot=0)\n",
    "plt.xlabel('Gender')\n",
    "plt.ylabel('Frequency')\n",
    "sns.despine()"
   ]
  },
  {
   "cell_type": "markdown",
   "metadata": {},
   "source": [
    "There is also about 50% of missing 'gender' data."
   ]
  },
  {
   "cell_type": "code",
   "execution_count": 11,
   "metadata": {},
   "outputs": [
    {
     "data": {
      "text/plain": [
       "FEMALE    77524\n",
       "MALE      68209\n",
       "Name: gender, dtype: int64"
      ]
     },
     "execution_count": 11,
     "metadata": {},
     "output_type": "execute_result"
    }
   ],
   "source": [
    "data.gender.value_counts()"
   ]
  },
  {
   "cell_type": "code",
   "execution_count": 12,
   "metadata": {},
   "outputs": [
    {
     "data": {
      "image/png": "[encoded data removed]",
      "text/plain": [
       "<matplotlib.figure.Figure at 0x11bbfe48>"
      ]
     },
     "metadata": {},
     "output_type": "display_data"
    }
   ],
   "source": [
    "plt.hist(data.age.dropna(), bins=range(0,2000), color='navy')\n",
    "plt.xticks(range(0,2020,200))\n",
    "plt.xlabel('Age')\n",
    "plt.ylabel('Count')\n",
    "plt.show()"
   ]
  },
  {
   "cell_type": "code",
   "execution_count": 13,
   "metadata": {
    "scrolled": false
   },
   "outputs": [
    {
     "data": {
      "image/png": "[encoded data removed]",
      "text/plain": [
       "<matplotlib.figure.Figure at 0x1585ec88>"
      ]
     },
     "metadata": {},
     "output_type": "display_data"
    }
   ],
   "source": [
    "plt.hist(data.age.dropna(), bins=range(1900,2000), color='navy')\n",
    "plt.xticks(range(1900,2000,7))\n",
    "plt.xlabel('Age')\n",
    "plt.ylabel('Count')\n",
    "plt.show()"
   ]
  },
  {
   "cell_type": "code",
   "execution_count": 14,
   "metadata": {},
   "outputs": [
    {
     "data": {
      "image/png": "[encoded data removed]",
      "text/plain": [
       "<matplotlib.figure.Figure at 0x198b17b8>"
      ]
     },
     "metadata": {},
     "output_type": "display_data"
    }
   ],
   "source": [
    "plt.hist(data.age.dropna(), bins=range(2000,2020), color='navy')\n",
    "plt.xticks(range(2000,2020,2))\n",
    "plt.xlabel('Age')\n",
    "plt.ylabel('Count')\n",
    "plt.show()"
   ]
  },
  {
   "cell_type": "code",
   "execution_count": 15,
   "metadata": {},
   "outputs": [
    {
     "data": {
      "image/png": "[encoded data removed]",
      "text/plain": [
       "<matplotlib.figure.Figure at 0x12090198>"
      ]
     },
     "metadata": {},
     "output_type": "display_data"
    }
   ],
   "source": [
    "plt.hist(data.age.dropna(), bins=range(0,120), color='navy')\n",
    "plt.xticks(range(0,120,7))\n",
    "plt.xlabel('Age')\n",
    "plt.ylabel('Count')\n",
    "plt.show()"
   ]
  },
  {
   "cell_type": "markdown",
   "metadata": {},
   "source": [
    "## III. Methodology\n",
    "\n",
    "### Data Preprocessing"
   ]
  },
  {
   "cell_type": "code",
   "execution_count": 56,
   "metadata": {
    "collapsed": true
   },
   "outputs": [],
   "source": [
    "#Dropping date_first_booking\n",
    "data=data.drop(['date_first_booking'],axis=1)"
   ]
  },
  {
   "cell_type": "code",
   "execution_count": 59,
   "metadata": {},
   "outputs": [
    {
     "name": "stderr",
     "output_type": "stream",
     "text": [
      "C:\\Users\\Vladimir\\Anaconda2\\lib\\site-packages\\ipykernel_launcher.py:2: RuntimeWarning: invalid value encountered in less\n",
      "  \n",
      "C:\\Users\\Vladimir\\Anaconda2\\lib\\site-packages\\ipykernel_launcher.py:2: RuntimeWarning: invalid value encountered in greater\n",
      "  \n",
      "C:\\Users\\Vladimir\\Anaconda2\\lib\\site-packages\\ipykernel_launcher.py:3: RuntimeWarning: invalid value encountered in greater\n",
      "  This is separate from the ipykernel package so we can avoid doing imports until\n",
      "C:\\Users\\Vladimir\\Anaconda2\\lib\\site-packages\\ipykernel_launcher.py:4: RuntimeWarning: invalid value encountered in greater\n",
      "  after removing the cwd from sys.path.\n"
     ]
    },
    {
     "data": {
      "image/png": "[encoded data removed]",
      "text/plain": [
       "<matplotlib.figure.Figure at 0x12a41a90>"
      ]
     },
     "metadata": {},
     "output_type": "display_data"
    }
   ],
   "source": [
    "#Cleaning age\n",
    "data.age = np.where((data.age.values<15) | (data.age.values>1999), np.nan, data.age.values)\n",
    "data.age = np.where(data.age.values>1900, 2014-data.age.values, data.age.values)\n",
    "data.age=np.where(data.age.values>104,np.nan,data.age.values)\n",
    "#data.age=np.where((data.age.values<15) | (data.age.values>104) | (data.age.values<=1900) ,np.nan,data.age.values)\n",
    "\n",
    "plt.hist(data.age.dropna(), bins=range(0,120), color='navy')\n",
    "plt.xticks(range(0,120,7))\n",
    "plt.xlabel('Age')\n",
    "plt.ylabel('Count')\n",
    "plt.show()\n"
   ]
  },
  {
   "cell_type": "code",
   "execution_count": 60,
   "metadata": {
    "collapsed": true
   },
   "outputs": [],
   "source": [
    "data['date_account_created'] = pd.to_datetime(data['date_account_created'])\n",
    "data['timestamp_first_active'] = pd.to_datetime(data['timestamp_first_active'])"
   ]
  },
  {
   "cell_type": "code",
   "execution_count": 61,
   "metadata": {
    "collapsed": true
   },
   "outputs": [],
   "source": [
    "#Creating new features from date and time fields\n",
    "data['dac_day']=data['date_account_created'].dt.weekday\n",
    "#data['dac_day']=data['date_account_created'].apply(lambda x:x.weekday)\n",
    "\n",
    "#data['dac_day']=np.vstack(data.date_account_created.apply(lambda x: list(map(int, x.dt.weekday))).values)\n",
    "data['dac_week']=data['date_account_created'].dt.week\n",
    "data['dac_month']=data['date_account_created'].dt.month\n",
    "data['dac_quarter']=data['date_account_created'].dt.quarter\n",
    "data['dac_year']=data['date_account_created'].dt.year\n",
    "\n",
    "data['tfa_day']=data['timestamp_first_active'].dt.weekday\n",
    "data['tfa_week']=data['timestamp_first_active'].dt.week\n",
    "data['tfa_month']=data['timestamp_first_active'].dt.month\n",
    "data['tfa_quarter']=data['timestamp_first_active'].dt.quarter\n",
    "data['tfa_year']=data['timestamp_first_active'].dt.year\n",
    "data['tfa_hour']=data['timestamp_first_active'].dt.hour\n",
    "\n",
    "#data['delta_t']=data['date_account_created'] - data['timestamp_first_active'] #).dt.days\n",
    "\n",
    "tfa_hours=data['timestamp_first_active'].dt.hour\n",
    "conditions_tod = [\n",
    "    ((tfa_hours>=0)&(tfa_hours<=7) ),\n",
    "    ((tfa_hours>=8)&(tfa_hours<=12)),\n",
    "    ((tfa_hours>=13)&(tfa_hours<=17)),\n",
    "    ((tfa_hours>=18)&(tfa_hours<=23))]\n",
    "choices_tod = ['night','morning','afternoon','evening']\n",
    "data['tfa_tod'] = np.select(conditions_tod, choices_tod)\n",
    "\n",
    "tfa_months=data['timestamp_first_active'].dt.month\n",
    "conditions_seasons = [\n",
    "    ((tfa_months==12)|(tfa_months<=2) ),\n",
    "    ((tfa_months>=3)&(tfa_months<=5)),\n",
    "    ((tfa_months>=6)&(tfa_months<=8)),\n",
    "    ((tfa_months>=9)&(tfa_months<=12))]\n",
    "choices_seasons = ['winter','spring','summer','autumn']\n",
    "data['tfa_season'] = np.select(conditions_seasons, choices_seasons)"
   ]
  },
  {
   "cell_type": "code",
   "execution_count": 62,
   "metadata": {
    "collapsed": true
   },
   "outputs": [],
   "source": [
    "# Dropping the now unneccessary columns\n",
    "data.drop(['date_account_created', 'timestamp_first_active'], axis=1, inplace=True)"
   ]
  },
  {
   "cell_type": "code",
   "execution_count": 63,
   "metadata": {
    "collapsed": true
   },
   "outputs": [],
   "source": [
    "#Filling NaNs\n",
    "data.language.fillna(data.language.value_counts().index[0],inplace=True)\n",
    "data.age.fillna(-1,inplace=True)\n",
    "data.fillna('missing',inplace=True)"
   ]
  },
  {
   "cell_type": "code",
   "execution_count": 64,
   "metadata": {},
   "outputs": [
    {
     "data": {
      "text/html": [
       "<div>\n",
       "<style>\n",
       "    .dataframe thead tr:only-child th {\n",
       "        text-align: right;\n",
       "    }\n",
       "\n",
       "    .dataframe thead th {\n",
       "        text-align: left;\n",
       "    }\n",
       "\n",
       "    .dataframe tbody tr th {\n",
       "        vertical-align: top;\n",
       "    }\n",
       "</style>\n",
       "<table border=\"1\" class=\"dataframe\">\n",
       "  <thead>\n",
       "    <tr style=\"text-align: right;\">\n",
       "      <th></th>\n",
       "      <th>0</th>\n",
       "      <th>1</th>\n",
       "      <th>2</th>\n",
       "      <th>3</th>\n",
       "      <th>4</th>\n",
       "    </tr>\n",
       "  </thead>\n",
       "  <tbody>\n",
       "    <tr>\n",
       "      <th>id</th>\n",
       "      <td>gxn3p5htnn</td>\n",
       "      <td>820tgsjxq7</td>\n",
       "      <td>4ft3gnwmtx</td>\n",
       "      <td>bjjt8pjhuk</td>\n",
       "      <td>87mebub9p4</td>\n",
       "    </tr>\n",
       "    <tr>\n",
       "      <th>gender</th>\n",
       "      <td>missing</td>\n",
       "      <td>MALE</td>\n",
       "      <td>FEMALE</td>\n",
       "      <td>FEMALE</td>\n",
       "      <td>missing</td>\n",
       "    </tr>\n",
       "    <tr>\n",
       "      <th>age</th>\n",
       "      <td>-1</td>\n",
       "      <td>38</td>\n",
       "      <td>56</td>\n",
       "      <td>42</td>\n",
       "      <td>41</td>\n",
       "    </tr>\n",
       "    <tr>\n",
       "      <th>signup_method</th>\n",
       "      <td>facebook</td>\n",
       "      <td>facebook</td>\n",
       "      <td>basic</td>\n",
       "      <td>facebook</td>\n",
       "      <td>basic</td>\n",
       "    </tr>\n",
       "    <tr>\n",
       "      <th>signup_flow</th>\n",
       "      <td>0</td>\n",
       "      <td>0</td>\n",
       "      <td>3</td>\n",
       "      <td>0</td>\n",
       "      <td>0</td>\n",
       "    </tr>\n",
       "    <tr>\n",
       "      <th>language</th>\n",
       "      <td>en</td>\n",
       "      <td>en</td>\n",
       "      <td>en</td>\n",
       "      <td>en</td>\n",
       "      <td>en</td>\n",
       "    </tr>\n",
       "    <tr>\n",
       "      <th>affiliate_channel</th>\n",
       "      <td>direct</td>\n",
       "      <td>seo</td>\n",
       "      <td>direct</td>\n",
       "      <td>direct</td>\n",
       "      <td>direct</td>\n",
       "    </tr>\n",
       "    <tr>\n",
       "      <th>affiliate_provider</th>\n",
       "      <td>direct</td>\n",
       "      <td>google</td>\n",
       "      <td>direct</td>\n",
       "      <td>direct</td>\n",
       "      <td>direct</td>\n",
       "    </tr>\n",
       "    <tr>\n",
       "      <th>first_affiliate_tracked</th>\n",
       "      <td>missing</td>\n",
       "      <td>missing</td>\n",
       "      <td>missing</td>\n",
       "      <td>missing</td>\n",
       "      <td>missing</td>\n",
       "    </tr>\n",
       "    <tr>\n",
       "      <th>signup_app</th>\n",
       "      <td>Web</td>\n",
       "      <td>Web</td>\n",
       "      <td>Web</td>\n",
       "      <td>Web</td>\n",
       "      <td>Web</td>\n",
       "    </tr>\n",
       "    <tr>\n",
       "      <th>first_device_type</th>\n",
       "      <td>Mac Desktop</td>\n",
       "      <td>Mac Desktop</td>\n",
       "      <td>Windows Desktop</td>\n",
       "      <td>Mac Desktop</td>\n",
       "      <td>Mac Desktop</td>\n",
       "    </tr>\n",
       "    <tr>\n",
       "      <th>first_browser</th>\n",
       "      <td>Chrome</td>\n",
       "      <td>Chrome</td>\n",
       "      <td>IE</td>\n",
       "      <td>Firefox</td>\n",
       "      <td>Chrome</td>\n",
       "    </tr>\n",
       "    <tr>\n",
       "      <th>dac_day</th>\n",
       "      <td>0</td>\n",
       "      <td>2</td>\n",
       "      <td>1</td>\n",
       "      <td>0</td>\n",
       "      <td>1</td>\n",
       "    </tr>\n",
       "    <tr>\n",
       "      <th>dac_week</th>\n",
       "      <td>26</td>\n",
       "      <td>21</td>\n",
       "      <td>39</td>\n",
       "      <td>49</td>\n",
       "      <td>37</td>\n",
       "    </tr>\n",
       "    <tr>\n",
       "      <th>dac_month</th>\n",
       "      <td>6</td>\n",
       "      <td>5</td>\n",
       "      <td>9</td>\n",
       "      <td>12</td>\n",
       "      <td>9</td>\n",
       "    </tr>\n",
       "    <tr>\n",
       "      <th>dac_quarter</th>\n",
       "      <td>2</td>\n",
       "      <td>2</td>\n",
       "      <td>3</td>\n",
       "      <td>4</td>\n",
       "      <td>3</td>\n",
       "    </tr>\n",
       "    <tr>\n",
       "      <th>dac_year</th>\n",
       "      <td>2010</td>\n",
       "      <td>2011</td>\n",
       "      <td>2010</td>\n",
       "      <td>2011</td>\n",
       "      <td>2010</td>\n",
       "    </tr>\n",
       "    <tr>\n",
       "      <th>tfa_day</th>\n",
       "      <td>3</td>\n",
       "      <td>5</td>\n",
       "      <td>1</td>\n",
       "      <td>5</td>\n",
       "      <td>1</td>\n",
       "    </tr>\n",
       "    <tr>\n",
       "      <th>tfa_week</th>\n",
       "      <td>12</td>\n",
       "      <td>21</td>\n",
       "      <td>24</td>\n",
       "      <td>44</td>\n",
       "      <td>50</td>\n",
       "    </tr>\n",
       "    <tr>\n",
       "      <th>tfa_month</th>\n",
       "      <td>3</td>\n",
       "      <td>5</td>\n",
       "      <td>6</td>\n",
       "      <td>10</td>\n",
       "      <td>12</td>\n",
       "    </tr>\n",
       "    <tr>\n",
       "      <th>tfa_quarter</th>\n",
       "      <td>1</td>\n",
       "      <td>2</td>\n",
       "      <td>2</td>\n",
       "      <td>4</td>\n",
       "      <td>4</td>\n",
       "    </tr>\n",
       "    <tr>\n",
       "      <th>tfa_year</th>\n",
       "      <td>2009</td>\n",
       "      <td>2009</td>\n",
       "      <td>2009</td>\n",
       "      <td>2009</td>\n",
       "      <td>2009</td>\n",
       "    </tr>\n",
       "    <tr>\n",
       "      <th>tfa_hour</th>\n",
       "      <td>4</td>\n",
       "      <td>17</td>\n",
       "      <td>23</td>\n",
       "      <td>6</td>\n",
       "      <td>6</td>\n",
       "    </tr>\n",
       "    <tr>\n",
       "      <th>tfa_tod</th>\n",
       "      <td>night</td>\n",
       "      <td>afternoon</td>\n",
       "      <td>evening</td>\n",
       "      <td>night</td>\n",
       "      <td>night</td>\n",
       "    </tr>\n",
       "    <tr>\n",
       "      <th>tfa_season</th>\n",
       "      <td>spring</td>\n",
       "      <td>spring</td>\n",
       "      <td>summer</td>\n",
       "      <td>autumn</td>\n",
       "      <td>winter</td>\n",
       "    </tr>\n",
       "  </tbody>\n",
       "</table>\n",
       "</div>"
      ],
      "text/plain": [
       "                                   0            1                2  \\\n",
       "id                        gxn3p5htnn   820tgsjxq7       4ft3gnwmtx   \n",
       "gender                       missing         MALE           FEMALE   \n",
       "age                               -1           38               56   \n",
       "signup_method               facebook     facebook            basic   \n",
       "signup_flow                        0            0                3   \n",
       "language                          en           en               en   \n",
       "affiliate_channel             direct          seo           direct   \n",
       "affiliate_provider            direct       google           direct   \n",
       "first_affiliate_tracked      missing      missing          missing   \n",
       "signup_app                       Web          Web              Web   \n",
       "first_device_type        Mac Desktop  Mac Desktop  Windows Desktop   \n",
       "first_browser                 Chrome       Chrome               IE   \n",
       "dac_day                            0            2                1   \n",
       "dac_week                          26           21               39   \n",
       "dac_month                          6            5                9   \n",
       "dac_quarter                        2            2                3   \n",
       "dac_year                        2010         2011             2010   \n",
       "tfa_day                            3            5                1   \n",
       "tfa_week                          12           21               24   \n",
       "tfa_month                          3            5                6   \n",
       "tfa_quarter                        1            2                2   \n",
       "tfa_year                        2009         2009             2009   \n",
       "tfa_hour                           4           17               23   \n",
       "tfa_tod                        night    afternoon          evening   \n",
       "tfa_season                    spring       spring           summer   \n",
       "\n",
       "                                   3            4  \n",
       "id                        bjjt8pjhuk   87mebub9p4  \n",
       "gender                        FEMALE      missing  \n",
       "age                               42           41  \n",
       "signup_method               facebook        basic  \n",
       "signup_flow                        0            0  \n",
       "language                          en           en  \n",
       "affiliate_channel             direct       direct  \n",
       "affiliate_provider            direct       direct  \n",
       "first_affiliate_tracked      missing      missing  \n",
       "signup_app                       Web          Web  \n",
       "first_device_type        Mac Desktop  Mac Desktop  \n",
       "first_browser                Firefox       Chrome  \n",
       "dac_day                            0            1  \n",
       "dac_week                          49           37  \n",
       "dac_month                         12            9  \n",
       "dac_quarter                        4            3  \n",
       "dac_year                        2011         2010  \n",
       "tfa_day                            5            1  \n",
       "tfa_week                          44           50  \n",
       "tfa_month                         10           12  \n",
       "tfa_quarter                        4            4  \n",
       "tfa_year                        2009         2009  \n",
       "tfa_hour                           6            6  \n",
       "tfa_tod                        night        night  \n",
       "tfa_season                    autumn       winter  "
      ]
     },
     "metadata": {},
     "output_type": "display_data"
    }
   ],
   "source": [
    "display(data.T.iloc[:,0:5])"
   ]
  },
  {
   "cell_type": "markdown",
   "metadata": {},
   "source": [
    "** Featureset after data engeneering **\n",
    "* **id**\n",
    "* **gender**: 'male','female', NaN\n",
    "* **age**: continuous, NaN \n",
    "* **signup_method**: 'basic', 'facebook', 'google', 'weibo'\n",
    "* **signup_flow**: 0, 25, 12,  3,  2, 23, 24,  1,  8,  6, 21,  5, 20, 16, 15, 14, 10, 4 (categorical)\n",
    "* **language**: 'en', 'zh', 'fr', 'es', 'ko', 'de', 'it', 'ru', 'ja', 'pt', 'sv', 'nl', 'tr', 'da', 'pl', 'no', 'cs', 'el', 'th', 'hu', 'id', 'fi', 'ca', 'is', 'hr', nan\n",
    "* **affiliate_channel**: 'direct', 'sem-brand', 'sem-non-brand', 'seo', 'other', 'api', 'content', 'remarketing'\n",
    "* **affiliate_provider**: 'direct', 'google', 'other', 'facebook', 'bing', 'craigslist', 'padmapper', 'vast', 'yahoo', 'facebook-open-graph', 'gsp', 'meetup', 'email-marketing', 'naver', 'baidu', 'yandex', 'wayn', 'daum'\n",
    "* **first_affiliate_tracked**: nan, 'linked', 'omg', 'tracked-other', 'product', 'marketing', 'local ops'\n",
    "* **signup_app**: 'Web', 'iOS', 'Android', 'Moweb'\n",
    "* **first_device_type**: 'Mac Desktop', 'Windows Desktop', 'iPhone', 'iPad', 'Other/Unknown', 'Android Phone', 'Android Tablet', 'Desktop (Other)', 'SmartPhone (Other)'\n",
    "* **first_browser**: 'Chrome', 'Safari', nan, 'Firefox', 'Mobile Safari', 'IE', 'Chrome Mobile', 'Android Browser', 'AOL Explorer', 'Opera', 'Silk', 'IE Mobile', 'BlackBerry Browser', 'Chromium', 'Mobile Firefox', 'Maxthon', 'Apple Mail', 'Sogou Explorer', 'SiteKiosk', 'RockMelt', 'Iron', 'Yandex.Browser', 'IceWeasel', 'Pale Moon', 'CometBird', 'SeaMonkey', 'Camino', 'TenFourFox', 'Opera Mini', 'wOSBrowser', 'CoolNovo', 'Avant Browser', 'Opera Mobile', 'Mozilla', 'SlimBrowser', 'Comodo Dragon', 'OmniWeb', 'Crazy Browser', 'TheWorld Browser', 'Flock', 'PS Vita browser', 'IceDragon', 'Googlebot', 'Conkeror', 'Arora', 'UC Browser', 'Stainless', 'Google Earth', 'IBrowse', 'NetNewsWire', 'Kindle Browser', 'Outlook 2007', 'Nintendo Browser', 'Palm Pre web browser', 'Epic'\n",
    "* **dac_day**: 0, 1, 2, 3, 4, 5, 6 (categorical)\n",
    "* **dac_week**: 1,  2,  3,  4,  5,  6,  7,  8,  9, 10, 11, 12, 13, 14, 15, 16, 17, 18, 19, 20, 21, 22, 23, 24, 25, 26, 27, 28, 29, 30, 31, 32, 33, 34, 35, 36, 37, 38, 39, 40, 41, 42, 43, 44, 45, 46, 47, 48, 49, 50, 51, 52, 53 (categorical)\n",
    "* **dac_month**: 1,  2,  3,  4,  5,  6,  7,  8,  9, 10, 11, 12 (categorical)\n",
    "* **dac_quarter**: 1,  2,  3,  4 (categorical)\n",
    "* **dac_year**: 2010, 2011, 2012, 2013, 2014 (categorical)\n",
    "* **tfa_day**: 0, 1, 2, 3, 4, 5, 6 (categorical)\n",
    "* **tfa_week**: 1,  2,  3,  4,  5,  6,  7,  8,  9, 10, 11, 12, 13, 14, 15, 16, 17, 18, 19, 20, 21, 22, 23, 24, 25, 26, 27, 28, 29, 30, 31, 32, 33, 34, 35, 36, 37, 38, 39, 40, 41, 42, 43, 44, 45, 46, 47, 48, 49, 50, 51, 52, 53 (categorical)\n",
    "* **tfa_month**: 1,  2,  3,  4,  5,  6,  7,  8,  9, 10, 11, 12 (categorical)\n",
    "* **tfa_quarter**: 1,  2,  3,  4 (categorical)\n",
    "* **tfa_year**: 2009, 2010, 2011, 2012, 2013, 2014 (categorical)\n",
    "* **tfa_hour**: 0,  1,  2,  3,  4,  5,  6,  7,  8,  9, 10, 11, 12, 13, 14, 15, 16, 17, 18, 19, 20, 21, 22, 23(categorical)\n",
    "* **tfa_tod**: 'afternoon', 'evening', 'morning', 'night'(categorical)\n",
    "* **tfa_season**: 'autumn', 'spring', 'summer', 'winter'(categorical)"
   ]
  },
  {
   "cell_type": "code",
   "execution_count": 23,
   "metadata": {
    "collapsed": true
   },
   "outputs": [],
   "source": [
    "#One-hot-encoding features\n",
    "ohe_features = ['gender', 'signup_method', 'signup_flow', 'language', 'affiliate_channel', 'affiliate_provider', \\\n",
    "             'first_affiliate_tracked', 'signup_app', 'first_device_type', 'first_browser', 'tfa_tod', 'tfa_season', \\\n",
    "             'dac_month', 'dac_quarter', 'dac_year', 'tfa_day', 'tfa_week', 'tfa_month', 'tfa_quarter',  'tfa_year', \\\n",
    "             'tfa_hour',  'dac_day', 'dac_week']\n",
    "\n",
    "for f in ohe_features:\n",
    "    data_dummy = pd.get_dummies(data[f], prefix=f)\n",
    "    data = data.drop([f], axis=1)\n",
    "    data = pd.concat((data, data_dummy), axis=1)"
   ]
  },
  {
   "cell_type": "code",
   "execution_count": 24,
   "metadata": {},
   "outputs": [
    {
     "name": "stdout",
     "output_type": "stream",
     "text": [
      "Dataset after OHE contains 275547 rows and 348 columns.\n"
     ]
    }
   ],
   "source": [
    "print 'Dataset after OHE contains {} rows and {} columns.'.format(data.shape[0], data.shape[1])"
   ]
  },
  {
   "cell_type": "code",
   "execution_count": 25,
   "metadata": {
    "collapsed": true
   },
   "outputs": [],
   "source": [
    "#Split data back into train and test sets\n",
    "vals = data.drop(['id'], axis=1).values\n",
    "#piv_train = train.shape[0]\n",
    "X = vals[:data_train_len]\n",
    "X_test = vals[data_train_len:]\n",
    "\n",
    "# Create numeric label for each of the 12 target labels\n",
    "labels = target.values\n",
    "le = LabelEncoder()\n",
    "y = le.fit_transform(labels)\n",
    "truth = pd.Series(le.inverse_transform(y))"
   ]
  },
  {
   "cell_type": "markdown",
   "metadata": {},
   "source": [
    "### NDCG Scoring Function\n",
    "\n",
    "A custom NDCG scorer from kaggle scripts will be used for training.\n",
    "\n",
    "ref: https://www.kaggle.com/dietcoke/score-predictions-using-ndcg"
   ]
  },
  {
   "cell_type": "code",
   "execution_count": 26,
   "metadata": {
    "collapsed": true
   },
   "outputs": [],
   "source": [
    "\"\"\"Metrics to compute the model performance.\"\"\"\n",
    "import numpy as np\n",
    "from sklearn.preprocessing import LabelBinarizer\n",
    "from sklearn.metrics import make_scorer\n",
    "\n",
    "def dcg_score(y_true, y_score, k=5):\n",
    "    \"\"\"Discounted cumulative gain (DCG) at rank K.\n",
    "    \n",
    "    Parameters\n",
    "    ----------\n",
    "    y_true : array, shape = [n_samples]\n",
    "        Ground truth (true relevance labels).\n",
    "    y_score : array, shape = [n_samples, n_classes]\n",
    "        Predicted scores.\n",
    "    k : int\n",
    "        Rank.\n",
    "        \n",
    "    Returns\n",
    "    -------\n",
    "    score : float\n",
    "    \"\"\"\n",
    "    order = np.argsort(y_score)[::-1]\n",
    "    y_true = np.take(y_true, order[:k])\n",
    "\n",
    "    gain = 2 ** y_true - 1\n",
    "\n",
    "    discounts = np.log2(np.arange(len(y_true)) + 2)\n",
    "    return np.sum(gain / discounts)\n",
    "\n",
    "def ndcg_score(ground_truth, predictions, k=5):\n",
    "    \"\"\"Normalized discounted cumulative gain (NDCG) at rank K.\n",
    "\n",
    "    Normalized Discounted Cumulative Gain (NDCG) measures the performance of a\n",
    "    recommendation system based on the graded relevance of the recommended\n",
    "    entities. It varies from 0.0 to 1.0, with 1.0 representing the ideal\n",
    "    ranking of the entities.\n",
    "\n",
    "    Parameters\n",
    "    ----------\n",
    "    ground_truth : array, shape = [n_samples]\n",
    "        Ground truth (true labels represended as integers).\n",
    "    predictions : array, shape = [n_samples, n_classes]\n",
    "        Predicted probabilities.\n",
    "    k : int\n",
    "        Rank.\n",
    "\n",
    "    Returns\n",
    "    -------\n",
    "    score : float\n",
    "\n",
    "    Example\n",
    "    -------\n",
    "    >>> ground_truth = [1, 0, 2]\n",
    "    >>> predictions = [[0.15, 0.55, 0.2], [0.7, 0.2, 0.1], [0.06, 0.04, 0.9]]\n",
    "    >>> score = ndcg_score(ground_truth, predictions, k=2)\n",
    "    1.0\n",
    "    >>> predictions = [[0.9, 0.5, 0.8], [0.7, 0.2, 0.1], [0.06, 0.04, 0.9]]\n",
    "    >>> score = ndcg_score(ground_truth, predictions, k=2)\n",
    "    0.6666666666\n",
    "    \"\"\"\n",
    "    lb = LabelBinarizer()\n",
    "    #lb.fit(range(len(predictions) + 1))  ## original\n",
    "    #lb.fit(range(predictions.shape[1] + 1))\n",
    "    #T = lb.transform(ground_truth)\n",
    "    \n",
    "    T = lb.fit_transform(ground_truth) \n",
    "\n",
    "    scores = []\n",
    "\n",
    "    # Iterate over each y_true and compute the DCG score\n",
    "    for y_true, y_score in zip(T, predictions):\n",
    "        actual = dcg_score(y_true, y_score, k)\n",
    "        best = dcg_score(y_true, y_true, k)\n",
    "        score = float(actual) / float(best)\n",
    "        scores.append(score)\n",
    "\n",
    "    return np.mean(scores)\n",
    "\n",
    "# NDCG Scorer function\n",
    "ndcg_scorer = make_scorer(ndcg_score, needs_proba=True, k=5)"
   ]
  },
  {
   "cell_type": "code",
   "execution_count": 27,
   "metadata": {
    "collapsed": true
   },
   "outputs": [],
   "source": [
    "def dcg_at_k(r, k, method=1):\n",
    "    r = np.asfarray(r)[:k]\n",
    "    if r.size:\n",
    "        if method == 0:\n",
    "            return r[0] + np.sum(r[1:] / np.log2(np.arange(2, r.size + 1)))\n",
    "        elif method == 1:\n",
    "            return np.sum(r / np.log2(np.arange(2, r.size + 2)))\n",
    "        else:\n",
    "            raise ValueError('method must be 0 or 1.')\n",
    "    return 0.\n",
    "\n",
    "\n",
    "def ndcg_at_k(r, k=5, method=1):\n",
    "    dcg_max = dcg_at_k(sorted(r, reverse=True), k, method)\n",
    "    if not dcg_max:\n",
    "        return 0.\n",
    "    return dcg_at_k(r, k, method) / dcg_max\n",
    "\n",
    "\n",
    "def score_predictions(preds, truth, n_modes=5):\n",
    "    \"\"\"\n",
    "    preds: pd.DataFrame\n",
    "      one row for each observation, one column for each prediction.\n",
    "      Columns are sorted from left to right descending in order of likelihood.\n",
    "    truth: pd.Series\n",
    "      one row for each obeservation.\n",
    "    \"\"\"\n",
    "    assert(len(preds)==len(truth))\n",
    "\n",
    "    r = pd.DataFrame(0, index=preds.index, columns=preds.columns, dtype=np.float64)\n",
    "    for col in preds.columns:\n",
    "        r[col] = (preds[col] == truth) * 1.0\n",
    "\n",
    "    score = pd.Series(r.apply(ndcg_at_k, axis=1, reduce=True), name='score')\n",
    "    return score.mean()"
   ]
  },
  {
   "cell_type": "markdown",
   "metadata": {},
   "source": [
    "### Implementation"
   ]
  },
  {
   "cell_type": "code",
   "execution_count": 28,
   "metadata": {
    "collapsed": true
   },
   "outputs": [],
   "source": [
    "def train_predict(learner, X_train, y_train, X_test): \n",
    "    '''\n",
    "    This function fits learner on training set, makes predictions, calculates NDCG score using custom metric, and prepares\n",
    "    a csv file for submission to Kaggle.\n",
    "    \n",
    "    inputs:\n",
    "       - learner: the learning algorithm to be trained and predicted on\n",
    "       - X_train: features training set\n",
    "       - y_train: income training set\n",
    "       - X_test: features testing set\n",
    "    '''\n",
    "    \n",
    "    \n",
    "    print learner.__class__.__name__,':\\n'\n",
    "    # Fitting the learner to the training data\n",
    "    start = datetime.utcnow() # Get start time\n",
    "    learner=learner.fit(X_train,y_train)\n",
    "    end = datetime.utcnow() # Get end time\n",
    "    \n",
    "    # Calculating the training time\n",
    "    print 'training time (min):', (end-start).total_seconds()/60\n",
    "        \n",
    "    # Getting the predictions on the training set\n",
    "    start = datetime.utcnow() # Get start time\n",
    "    y_pred_proba_train =learner.predict_proba(X_train)\n",
    "    y_pred_train = np.argmax(y_pred_proba_train, axis=1)\n",
    "    end = datetime.utcnow() # Get end time\n",
    "    \n",
    "    # Calculate the total prediction time\n",
    "    print 'prediction time (sec):', (end-start).total_seconds()\n",
    "           \n",
    "    preds = []\n",
    "\n",
    "    for i in range(len(X_train)):\n",
    "        preds += [le.inverse_transform(np.argsort(y_pred_proba_train[i])[::-1])[:5].tolist()]\n",
    "\n",
    "    preds = pd.DataFrame(preds)\n",
    "    truth= pd.Series(le.inverse_transform(y_train))\n",
    "    \n",
    "    print 'NDCG score:',  str(score_predictions(preds, truth))\n",
    "   \n",
    "    print classification_report(y_train, y_pred_train)\n",
    "    \n",
    "    # make predictions on test set\n",
    "    y_pred_proba_test = learner.predict_proba(X_test)\n",
    "    id_test = data_test['id']\n",
    "    # Taking the 5 classes with highest probabilities\n",
    "    ids = []  #list of ids\n",
    "    cts = []  #list of countries\n",
    "    for i in range(len(id_test)):\n",
    "        idx = id_test[i]\n",
    "        ids += [idx] * 5\n",
    "        cts += le.inverse_transform(np.argsort(y_pred_proba_test[i])[::-1])[:5].tolist()\n",
    "\n",
    "    sub = pd.DataFrame(np.column_stack((ids, cts)), columns=['id', 'country'])\n",
    "    name=learner.__class__.__name__+'.csv'\n",
    "    sub.to_csv(name,index=False)\n",
    "   \n",
    "    return "
   ]
  },
  {
   "cell_type": "code",
   "execution_count": 29,
   "metadata": {},
   "outputs": [
    {
     "name": "stdout",
     "output_type": "stream",
     "text": [
      "AdaBoostClassifier :\n",
      "\n",
      "training time (min): 0.600983333333\n",
      "prediction time (sec): 7.686\n",
      "NDCG score: 0.821567014409\n",
      "             precision    recall  f1-score   support\n",
      "\n",
      "          0       0.00      0.00      0.00       539\n",
      "          1       0.00      0.00      0.00      1428\n",
      "          2       0.00      0.00      0.00      1061\n",
      "          3       0.00      0.00      0.00      2249\n",
      "          4       0.00      0.00      0.00      5023\n",
      "          5       0.00      0.00      0.00      2324\n",
      "          6       0.00      0.00      0.00      2835\n",
      "          7       0.67      0.87      0.75    124543\n",
      "          8       0.00      0.00      0.00       762\n",
      "          9       0.00      0.00      0.00       217\n",
      "         10       0.48      0.40      0.44     62376\n",
      "         11       0.00      0.00      0.00     10094\n",
      "\n",
      "avg / total       0.53      0.62      0.57    213451\n",
      "\n"
     ]
    },
    {
     "name": "stderr",
     "output_type": "stream",
     "text": [
      "C:\\Users\\Vladimir\\Anaconda2\\lib\\site-packages\\sklearn\\metrics\\classification.py:1113: UndefinedMetricWarning: Precision and F-score are ill-defined and being set to 0.0 in labels with no predicted samples.\n",
      "  'precision', 'predicted', average, warn_for)\n"
     ]
    }
   ],
   "source": [
    "clf = AdaBoostClassifier(random_state=10)\n",
    "train_predict(clf, X, y, X_test)"
   ]
  },
  {
   "cell_type": "code",
   "execution_count": 39,
   "metadata": {},
   "outputs": [
    {
     "name": "stdout",
     "output_type": "stream",
     "text": [
      "LogisticRegression :\n",
      "\n",
      "training time (min): 2.30436666667\n",
      "prediction time (sec): 0.654\n",
      "prediction-proba time (sec): 0.729\n",
      "NDCG score: 0.817994242046\n",
      "             precision    recall  f1-score   support\n",
      "\n",
      "          0       0.00      0.00      0.00       539\n",
      "          1       0.00      0.00      0.00      1428\n",
      "          2       0.00      0.00      0.00      1061\n",
      "          3       0.00      0.00      0.00      2249\n",
      "          4       0.00      0.00      0.00      5023\n",
      "          5       0.00      0.00      0.00      2324\n",
      "          6       0.00      0.00      0.00      2835\n",
      "          7       0.65      0.88      0.75    124543\n",
      "          8       0.00      0.00      0.00       762\n",
      "          9       0.00      0.00      0.00       217\n",
      "         10       0.47      0.34      0.39     62376\n",
      "         11       0.00      0.00      0.00     10094\n",
      "\n",
      "avg / total       0.52      0.61      0.55    213451\n",
      "\n"
     ]
    }
   ],
   "source": [
    "clf = LogisticRegression(random_state=10)\n",
    "train_predict(clf, X, y, X_test)"
   ]
  },
  {
   "cell_type": "code",
   "execution_count": 18,
   "metadata": {},
   "outputs": [
    {
     "name": "stdout",
     "output_type": "stream",
     "text": [
      "CalibratedClassifierCV :\n",
      "\n",
      "training time (min): 26.5796833333\n",
      "prediction time (sec): 2.439\n",
      "prediction-proba time (sec): 2.348\n",
      "NDCG score: 0.805188600348\n",
      "             precision    recall  f1-score   support\n",
      "\n",
      "          0       0.00      0.00      0.00       539\n",
      "          1       0.00      0.00      0.00      1428\n",
      "          2       0.00      0.00      0.00      1061\n",
      "          3       0.00      0.00      0.00      2249\n",
      "          4       0.00      0.00      0.00      5023\n",
      "          5       0.00      0.00      0.00      2324\n",
      "          6       1.00      0.00      0.00      2835\n",
      "          7       0.59      0.99      0.74    124543\n",
      "          8       0.00      0.00      0.00       762\n",
      "          9       0.00      0.00      0.00       217\n",
      "         10       0.45      0.04      0.07     62376\n",
      "         11       1.00      0.00      0.00     10094\n",
      "\n",
      "avg / total       0.54      0.59      0.45    213451\n",
      "\n"
     ]
    },
    {
     "name": "stderr",
     "output_type": "stream",
     "text": [
      "C:\\Users\\Vladimir\\Anaconda2\\lib\\site-packages\\sklearn\\metrics\\classification.py:1113: UndefinedMetricWarning: Precision and F-score are ill-defined and being set to 0.0 in labels with no predicted samples.\n",
      "  'precision', 'predicted', average, warn_for)\n"
     ]
    }
   ],
   "source": [
    "linear_svc = LinearSVC()     #The base estimator\n",
    "\n",
    "# This is the calibrated classifier which can give probabilistic classifier\n",
    "clf = CalibratedClassifierCV(linear_svc, method='sigmoid',  cv=3) \n",
    "train_predict(clf, X, y, X_test)"
   ]
  },
  {
   "cell_type": "code",
   "execution_count": 21,
   "metadata": {},
   "outputs": [
    {
     "name": "stdout",
     "output_type": "stream",
     "text": [
      "XGBClassifier :\n",
      "\n",
      "training time (min): 5.66936666667\n",
      "prediction time (sec): 3.646\n",
      "NDCG score: 0.826659971648\n",
      "             precision    recall  f1-score   support\n",
      "\n",
      "          0       0.00      0.00      0.00       539\n",
      "          1       0.00      0.00      0.00      1428\n",
      "          2       0.00      0.00      0.00      1061\n",
      "          3       0.00      0.00      0.00      2249\n",
      "          4       0.00      0.00      0.00      5023\n",
      "          5       0.00      0.00      0.00      2324\n",
      "          6       0.00      0.00      0.00      2835\n",
      "          7       0.69      0.85      0.76    124543\n",
      "          8       0.00      0.00      0.00       762\n",
      "          9       0.00      0.00      0.00       217\n",
      "         10       0.49      0.47      0.48     62376\n",
      "         11       0.00      0.00      0.00     10094\n",
      "\n",
      "avg / total       0.55      0.63      0.59    213451\n",
      "\n"
     ]
    }
   ],
   "source": [
    "clf = XGBClassifier(objective='multi:softprob', seed=10)\n",
    "train_predict(clf, X, y, X_test)"
   ]
  },
  {
   "cell_type": "markdown",
   "metadata": {},
   "source": [
    "### Refinement"
   ]
  },
  {
   "cell_type": "markdown",
   "metadata": {},
   "source": [
    "We will utilize the sessions data by grouping users by user_id and action_detail and counting each unique action_detail event per user_id. This is then joined with our user data."
   ]
  },
  {
   "cell_type": "code",
   "execution_count": 30,
   "metadata": {},
   "outputs": [
    {
     "name": "stdout",
     "output_type": "stream",
     "text": [
      "(10567737, 6)\n"
     ]
    },
    {
     "data": {
      "text/html": [
       "<div>\n",
       "<style>\n",
       "    .dataframe thead tr:only-child th {\n",
       "        text-align: right;\n",
       "    }\n",
       "\n",
       "    .dataframe thead th {\n",
       "        text-align: left;\n",
       "    }\n",
       "\n",
       "    .dataframe tbody tr th {\n",
       "        vertical-align: top;\n",
       "    }\n",
       "</style>\n",
       "<table border=\"1\" class=\"dataframe\">\n",
       "  <thead>\n",
       "    <tr style=\"text-align: right;\">\n",
       "      <th></th>\n",
       "      <th>user_id</th>\n",
       "      <th>action</th>\n",
       "      <th>action_type</th>\n",
       "      <th>action_detail</th>\n",
       "      <th>device_type</th>\n",
       "      <th>secs_elapsed</th>\n",
       "    </tr>\n",
       "  </thead>\n",
       "  <tbody>\n",
       "    <tr>\n",
       "      <th>0</th>\n",
       "      <td>d1mm9tcy42</td>\n",
       "      <td>lookup</td>\n",
       "      <td>NaN</td>\n",
       "      <td>NaN</td>\n",
       "      <td>Windows Desktop</td>\n",
       "      <td>319.0</td>\n",
       "    </tr>\n",
       "    <tr>\n",
       "      <th>1</th>\n",
       "      <td>d1mm9tcy42</td>\n",
       "      <td>search_results</td>\n",
       "      <td>click</td>\n",
       "      <td>view_search_results</td>\n",
       "      <td>Windows Desktop</td>\n",
       "      <td>67753.0</td>\n",
       "    </tr>\n",
       "    <tr>\n",
       "      <th>2</th>\n",
       "      <td>d1mm9tcy42</td>\n",
       "      <td>lookup</td>\n",
       "      <td>NaN</td>\n",
       "      <td>NaN</td>\n",
       "      <td>Windows Desktop</td>\n",
       "      <td>301.0</td>\n",
       "    </tr>\n",
       "    <tr>\n",
       "      <th>3</th>\n",
       "      <td>d1mm9tcy42</td>\n",
       "      <td>search_results</td>\n",
       "      <td>click</td>\n",
       "      <td>view_search_results</td>\n",
       "      <td>Windows Desktop</td>\n",
       "      <td>22141.0</td>\n",
       "    </tr>\n",
       "    <tr>\n",
       "      <th>4</th>\n",
       "      <td>d1mm9tcy42</td>\n",
       "      <td>lookup</td>\n",
       "      <td>NaN</td>\n",
       "      <td>NaN</td>\n",
       "      <td>Windows Desktop</td>\n",
       "      <td>435.0</td>\n",
       "    </tr>\n",
       "  </tbody>\n",
       "</table>\n",
       "</div>"
      ],
      "text/plain": [
       "      user_id          action action_type        action_detail  \\\n",
       "0  d1mm9tcy42          lookup         NaN                  NaN   \n",
       "1  d1mm9tcy42  search_results       click  view_search_results   \n",
       "2  d1mm9tcy42          lookup         NaN                  NaN   \n",
       "3  d1mm9tcy42  search_results       click  view_search_results   \n",
       "4  d1mm9tcy42          lookup         NaN                  NaN   \n",
       "\n",
       "       device_type  secs_elapsed  \n",
       "0  Windows Desktop         319.0  \n",
       "1  Windows Desktop       67753.0  \n",
       "2  Windows Desktop         301.0  \n",
       "3  Windows Desktop       22141.0  \n",
       "4  Windows Desktop         435.0  "
      ]
     },
     "execution_count": 30,
     "metadata": {},
     "output_type": "execute_result"
    }
   ],
   "source": [
    "# Load session data\n",
    "sessions = pd.read_csv('data/sessions.csv')\n",
    "print sessions.shape\n",
    "sessions.head()"
   ]
  },
  {
   "cell_type": "code",
   "execution_count": 31,
   "metadata": {},
   "outputs": [
    {
     "data": {
      "text/html": [
       "<div>\n",
       "<style>\n",
       "    .dataframe thead tr:only-child th {\n",
       "        text-align: right;\n",
       "    }\n",
       "\n",
       "    .dataframe thead th {\n",
       "        text-align: left;\n",
       "    }\n",
       "\n",
       "    .dataframe tbody tr th {\n",
       "        vertical-align: top;\n",
       "    }\n",
       "</style>\n",
       "<table border=\"1\" class=\"dataframe\">\n",
       "  <thead>\n",
       "    <tr style=\"text-align: right;\">\n",
       "      <th></th>\n",
       "      <th>user_id</th>\n",
       "      <th>action_detail</th>\n",
       "      <th>event_count</th>\n",
       "    </tr>\n",
       "  </thead>\n",
       "  <tbody>\n",
       "    <tr>\n",
       "      <th>0</th>\n",
       "      <td>00023iyk9l</td>\n",
       "      <td>change_trip_characteristics</td>\n",
       "      <td>2</td>\n",
       "    </tr>\n",
       "    <tr>\n",
       "      <th>1</th>\n",
       "      <td>00023iyk9l</td>\n",
       "      <td>confirm_email_link</td>\n",
       "      <td>1</td>\n",
       "    </tr>\n",
       "    <tr>\n",
       "      <th>2</th>\n",
       "      <td>00023iyk9l</td>\n",
       "      <td>dashboard</td>\n",
       "      <td>4</td>\n",
       "    </tr>\n",
       "    <tr>\n",
       "      <th>3</th>\n",
       "      <td>00023iyk9l</td>\n",
       "      <td>header_userpic</td>\n",
       "      <td>2</td>\n",
       "    </tr>\n",
       "    <tr>\n",
       "      <th>4</th>\n",
       "      <td>00023iyk9l</td>\n",
       "      <td>message_post</td>\n",
       "      <td>1</td>\n",
       "    </tr>\n",
       "  </tbody>\n",
       "</table>\n",
       "</div>"
      ],
      "text/plain": [
       "      user_id                action_detail  event_count\n",
       "0  00023iyk9l  change_trip_characteristics            2\n",
       "1  00023iyk9l           confirm_email_link            1\n",
       "2  00023iyk9l                    dashboard            4\n",
       "3  00023iyk9l               header_userpic            2\n",
       "4  00023iyk9l                 message_post            1"
      ]
     },
     "execution_count": 31,
     "metadata": {},
     "output_type": "execute_result"
    }
   ],
   "source": [
    "# group sessions by user and action_detail\n",
    "group_uu = sessions.groupby(['user_id', 'action_detail'], as_index=False)\n",
    "# count events and convert groupby to dataframe\n",
    "events_uu = pd.DataFrame({'event_count' : group_uu.size() }).reset_index()\n",
    "events_uu.head()"
   ]
  },
  {
   "cell_type": "code",
   "execution_count": 32,
   "metadata": {},
   "outputs": [
    {
     "data": {
      "text/html": [
       "<div>\n",
       "<style>\n",
       "    .dataframe thead tr:only-child th {\n",
       "        text-align: right;\n",
       "    }\n",
       "\n",
       "    .dataframe thead th {\n",
       "        text-align: left;\n",
       "    }\n",
       "\n",
       "    .dataframe tbody tr th {\n",
       "        vertical-align: top;\n",
       "    }\n",
       "</style>\n",
       "<table border=\"1\" class=\"dataframe\">\n",
       "  <thead>\n",
       "    <tr style=\"text-align: right;\">\n",
       "      <th>action_detail</th>\n",
       "      <th>user_id</th>\n",
       "      <th>account_notification_settings</th>\n",
       "      <th>account_payment_methods</th>\n",
       "      <th>account_payout_preferences</th>\n",
       "      <th>account_privacy_settings</th>\n",
       "      <th>account_transaction_history</th>\n",
       "      <th>admin_templates</th>\n",
       "      <th>airbnb_picks_wishlists</th>\n",
       "      <th>alteration_field</th>\n",
       "      <th>alteration_request</th>\n",
       "      <th>...</th>\n",
       "      <th>view_resolutions</th>\n",
       "      <th>view_search_results</th>\n",
       "      <th>view_security_checks</th>\n",
       "      <th>view_user_real_names</th>\n",
       "      <th>wishlist</th>\n",
       "      <th>wishlist_content_update</th>\n",
       "      <th>wishlist_note</th>\n",
       "      <th>your_listings</th>\n",
       "      <th>your_reservations</th>\n",
       "      <th>your_trips</th>\n",
       "    </tr>\n",
       "  </thead>\n",
       "  <tbody>\n",
       "    <tr>\n",
       "      <th>0</th>\n",
       "      <td>00023iyk9l</td>\n",
       "      <td>NaN</td>\n",
       "      <td>NaN</td>\n",
       "      <td>NaN</td>\n",
       "      <td>NaN</td>\n",
       "      <td>NaN</td>\n",
       "      <td>NaN</td>\n",
       "      <td>NaN</td>\n",
       "      <td>NaN</td>\n",
       "      <td>NaN</td>\n",
       "      <td>...</td>\n",
       "      <td>NaN</td>\n",
       "      <td>5.0</td>\n",
       "      <td>NaN</td>\n",
       "      <td>NaN</td>\n",
       "      <td>NaN</td>\n",
       "      <td>4.0</td>\n",
       "      <td>NaN</td>\n",
       "      <td>NaN</td>\n",
       "      <td>NaN</td>\n",
       "      <td>2.0</td>\n",
       "    </tr>\n",
       "    <tr>\n",
       "      <th>1</th>\n",
       "      <td>0010k6l0om</td>\n",
       "      <td>NaN</td>\n",
       "      <td>NaN</td>\n",
       "      <td>NaN</td>\n",
       "      <td>NaN</td>\n",
       "      <td>NaN</td>\n",
       "      <td>NaN</td>\n",
       "      <td>NaN</td>\n",
       "      <td>NaN</td>\n",
       "      <td>NaN</td>\n",
       "      <td>...</td>\n",
       "      <td>NaN</td>\n",
       "      <td>10.0</td>\n",
       "      <td>NaN</td>\n",
       "      <td>NaN</td>\n",
       "      <td>NaN</td>\n",
       "      <td>8.0</td>\n",
       "      <td>NaN</td>\n",
       "      <td>NaN</td>\n",
       "      <td>NaN</td>\n",
       "      <td>NaN</td>\n",
       "    </tr>\n",
       "    <tr>\n",
       "      <th>2</th>\n",
       "      <td>001wyh0pz8</td>\n",
       "      <td>NaN</td>\n",
       "      <td>NaN</td>\n",
       "      <td>NaN</td>\n",
       "      <td>NaN</td>\n",
       "      <td>NaN</td>\n",
       "      <td>NaN</td>\n",
       "      <td>NaN</td>\n",
       "      <td>NaN</td>\n",
       "      <td>NaN</td>\n",
       "      <td>...</td>\n",
       "      <td>NaN</td>\n",
       "      <td>66.0</td>\n",
       "      <td>NaN</td>\n",
       "      <td>NaN</td>\n",
       "      <td>NaN</td>\n",
       "      <td>NaN</td>\n",
       "      <td>NaN</td>\n",
       "      <td>NaN</td>\n",
       "      <td>NaN</td>\n",
       "      <td>NaN</td>\n",
       "    </tr>\n",
       "    <tr>\n",
       "      <th>3</th>\n",
       "      <td>0028jgx1x1</td>\n",
       "      <td>NaN</td>\n",
       "      <td>NaN</td>\n",
       "      <td>NaN</td>\n",
       "      <td>NaN</td>\n",
       "      <td>NaN</td>\n",
       "      <td>NaN</td>\n",
       "      <td>NaN</td>\n",
       "      <td>NaN</td>\n",
       "      <td>NaN</td>\n",
       "      <td>...</td>\n",
       "      <td>NaN</td>\n",
       "      <td>9.0</td>\n",
       "      <td>NaN</td>\n",
       "      <td>NaN</td>\n",
       "      <td>NaN</td>\n",
       "      <td>NaN</td>\n",
       "      <td>NaN</td>\n",
       "      <td>NaN</td>\n",
       "      <td>NaN</td>\n",
       "      <td>NaN</td>\n",
       "    </tr>\n",
       "    <tr>\n",
       "      <th>4</th>\n",
       "      <td>002qnbzfs5</td>\n",
       "      <td>NaN</td>\n",
       "      <td>NaN</td>\n",
       "      <td>NaN</td>\n",
       "      <td>NaN</td>\n",
       "      <td>NaN</td>\n",
       "      <td>NaN</td>\n",
       "      <td>NaN</td>\n",
       "      <td>NaN</td>\n",
       "      <td>NaN</td>\n",
       "      <td>...</td>\n",
       "      <td>NaN</td>\n",
       "      <td>125.0</td>\n",
       "      <td>NaN</td>\n",
       "      <td>NaN</td>\n",
       "      <td>NaN</td>\n",
       "      <td>NaN</td>\n",
       "      <td>NaN</td>\n",
       "      <td>NaN</td>\n",
       "      <td>NaN</td>\n",
       "      <td>NaN</td>\n",
       "    </tr>\n",
       "  </tbody>\n",
       "</table>\n",
       "<p>5 rows × 155 columns</p>\n",
       "</div>"
      ],
      "text/plain": [
       "action_detail     user_id  account_notification_settings  \\\n",
       "0              00023iyk9l                            NaN   \n",
       "1              0010k6l0om                            NaN   \n",
       "2              001wyh0pz8                            NaN   \n",
       "3              0028jgx1x1                            NaN   \n",
       "4              002qnbzfs5                            NaN   \n",
       "\n",
       "action_detail  account_payment_methods  account_payout_preferences  \\\n",
       "0                                  NaN                         NaN   \n",
       "1                                  NaN                         NaN   \n",
       "2                                  NaN                         NaN   \n",
       "3                                  NaN                         NaN   \n",
       "4                                  NaN                         NaN   \n",
       "\n",
       "action_detail  account_privacy_settings  account_transaction_history  \\\n",
       "0                                   NaN                          NaN   \n",
       "1                                   NaN                          NaN   \n",
       "2                                   NaN                          NaN   \n",
       "3                                   NaN                          NaN   \n",
       "4                                   NaN                          NaN   \n",
       "\n",
       "action_detail  admin_templates  airbnb_picks_wishlists  alteration_field  \\\n",
       "0                          NaN                     NaN               NaN   \n",
       "1                          NaN                     NaN               NaN   \n",
       "2                          NaN                     NaN               NaN   \n",
       "3                          NaN                     NaN               NaN   \n",
       "4                          NaN                     NaN               NaN   \n",
       "\n",
       "action_detail  alteration_request     ...      view_resolutions  \\\n",
       "0                             NaN     ...                   NaN   \n",
       "1                             NaN     ...                   NaN   \n",
       "2                             NaN     ...                   NaN   \n",
       "3                             NaN     ...                   NaN   \n",
       "4                             NaN     ...                   NaN   \n",
       "\n",
       "action_detail  view_search_results  view_security_checks  \\\n",
       "0                              5.0                   NaN   \n",
       "1                             10.0                   NaN   \n",
       "2                             66.0                   NaN   \n",
       "3                              9.0                   NaN   \n",
       "4                            125.0                   NaN   \n",
       "\n",
       "action_detail  view_user_real_names  wishlist  wishlist_content_update  \\\n",
       "0                               NaN       NaN                      4.0   \n",
       "1                               NaN       NaN                      8.0   \n",
       "2                               NaN       NaN                      NaN   \n",
       "3                               NaN       NaN                      NaN   \n",
       "4                               NaN       NaN                      NaN   \n",
       "\n",
       "action_detail  wishlist_note  your_listings  your_reservations  your_trips  \n",
       "0                        NaN            NaN                NaN         2.0  \n",
       "1                        NaN            NaN                NaN         NaN  \n",
       "2                        NaN            NaN                NaN         NaN  \n",
       "3                        NaN            NaN                NaN         NaN  \n",
       "4                        NaN            NaN                NaN         NaN  \n",
       "\n",
       "[5 rows x 155 columns]"
      ]
     },
     "execution_count": 32,
     "metadata": {},
     "output_type": "execute_result"
    }
   ],
   "source": [
    "# convert action_detail types to columns with pivot table\n",
    "pivot_uu = events_uu.pivot_table('event_count', ['user_id'], ['action_detail'])\n",
    "pivot_uu = pd.DataFrame(pivot_uu.reset_index())\n",
    "# drop 'unknown' events\n",
    "pivot_uu = pivot_uu.drop(['-unknown-'], axis=1)\n",
    "pivot_uu.head()\n"
   ]
  },
  {
   "cell_type": "code",
   "execution_count": 33,
   "metadata": {},
   "outputs": [
    {
     "data": {
      "text/html": [
       "<div>\n",
       "<style>\n",
       "    .dataframe thead tr:only-child th {\n",
       "        text-align: right;\n",
       "    }\n",
       "\n",
       "    .dataframe thead th {\n",
       "        text-align: left;\n",
       "    }\n",
       "\n",
       "    .dataframe tbody tr th {\n",
       "        vertical-align: top;\n",
       "    }\n",
       "</style>\n",
       "<table border=\"1\" class=\"dataframe\">\n",
       "  <thead>\n",
       "    <tr style=\"text-align: right;\">\n",
       "      <th></th>\n",
       "      <th>id</th>\n",
       "      <th>age</th>\n",
       "      <th>gender_FEMALE</th>\n",
       "      <th>gender_MALE</th>\n",
       "      <th>gender_missing</th>\n",
       "      <th>signup_method_basic</th>\n",
       "      <th>signup_method_facebook</th>\n",
       "      <th>signup_method_google</th>\n",
       "      <th>signup_method_weibo</th>\n",
       "      <th>signup_flow_0</th>\n",
       "      <th>...</th>\n",
       "      <th>view_resolutions</th>\n",
       "      <th>view_search_results</th>\n",
       "      <th>view_security_checks</th>\n",
       "      <th>view_user_real_names</th>\n",
       "      <th>wishlist</th>\n",
       "      <th>wishlist_content_update</th>\n",
       "      <th>wishlist_note</th>\n",
       "      <th>your_listings</th>\n",
       "      <th>your_reservations</th>\n",
       "      <th>your_trips</th>\n",
       "    </tr>\n",
       "  </thead>\n",
       "  <tbody>\n",
       "    <tr>\n",
       "      <th>0</th>\n",
       "      <td>gxn3p5htnn</td>\n",
       "      <td>-1.0</td>\n",
       "      <td>0</td>\n",
       "      <td>0</td>\n",
       "      <td>1</td>\n",
       "      <td>0</td>\n",
       "      <td>1</td>\n",
       "      <td>0</td>\n",
       "      <td>0</td>\n",
       "      <td>1</td>\n",
       "      <td>...</td>\n",
       "      <td>0.0</td>\n",
       "      <td>0.0</td>\n",
       "      <td>0.0</td>\n",
       "      <td>0.0</td>\n",
       "      <td>0.0</td>\n",
       "      <td>0.0</td>\n",
       "      <td>0.0</td>\n",
       "      <td>0.0</td>\n",
       "      <td>0.0</td>\n",
       "      <td>0.0</td>\n",
       "    </tr>\n",
       "    <tr>\n",
       "      <th>1</th>\n",
       "      <td>820tgsjxq7</td>\n",
       "      <td>38.0</td>\n",
       "      <td>0</td>\n",
       "      <td>1</td>\n",
       "      <td>0</td>\n",
       "      <td>0</td>\n",
       "      <td>1</td>\n",
       "      <td>0</td>\n",
       "      <td>0</td>\n",
       "      <td>1</td>\n",
       "      <td>...</td>\n",
       "      <td>0.0</td>\n",
       "      <td>0.0</td>\n",
       "      <td>0.0</td>\n",
       "      <td>0.0</td>\n",
       "      <td>0.0</td>\n",
       "      <td>0.0</td>\n",
       "      <td>0.0</td>\n",
       "      <td>0.0</td>\n",
       "      <td>0.0</td>\n",
       "      <td>0.0</td>\n",
       "    </tr>\n",
       "    <tr>\n",
       "      <th>2</th>\n",
       "      <td>4ft3gnwmtx</td>\n",
       "      <td>56.0</td>\n",
       "      <td>1</td>\n",
       "      <td>0</td>\n",
       "      <td>0</td>\n",
       "      <td>1</td>\n",
       "      <td>0</td>\n",
       "      <td>0</td>\n",
       "      <td>0</td>\n",
       "      <td>0</td>\n",
       "      <td>...</td>\n",
       "      <td>0.0</td>\n",
       "      <td>0.0</td>\n",
       "      <td>0.0</td>\n",
       "      <td>0.0</td>\n",
       "      <td>0.0</td>\n",
       "      <td>0.0</td>\n",
       "      <td>0.0</td>\n",
       "      <td>0.0</td>\n",
       "      <td>0.0</td>\n",
       "      <td>0.0</td>\n",
       "    </tr>\n",
       "    <tr>\n",
       "      <th>3</th>\n",
       "      <td>bjjt8pjhuk</td>\n",
       "      <td>42.0</td>\n",
       "      <td>1</td>\n",
       "      <td>0</td>\n",
       "      <td>0</td>\n",
       "      <td>0</td>\n",
       "      <td>1</td>\n",
       "      <td>0</td>\n",
       "      <td>0</td>\n",
       "      <td>1</td>\n",
       "      <td>...</td>\n",
       "      <td>0.0</td>\n",
       "      <td>0.0</td>\n",
       "      <td>0.0</td>\n",
       "      <td>0.0</td>\n",
       "      <td>0.0</td>\n",
       "      <td>0.0</td>\n",
       "      <td>0.0</td>\n",
       "      <td>0.0</td>\n",
       "      <td>0.0</td>\n",
       "      <td>0.0</td>\n",
       "    </tr>\n",
       "    <tr>\n",
       "      <th>4</th>\n",
       "      <td>87mebub9p4</td>\n",
       "      <td>41.0</td>\n",
       "      <td>0</td>\n",
       "      <td>0</td>\n",
       "      <td>1</td>\n",
       "      <td>1</td>\n",
       "      <td>0</td>\n",
       "      <td>0</td>\n",
       "      <td>0</td>\n",
       "      <td>1</td>\n",
       "      <td>...</td>\n",
       "      <td>0.0</td>\n",
       "      <td>0.0</td>\n",
       "      <td>0.0</td>\n",
       "      <td>0.0</td>\n",
       "      <td>0.0</td>\n",
       "      <td>0.0</td>\n",
       "      <td>0.0</td>\n",
       "      <td>0.0</td>\n",
       "      <td>0.0</td>\n",
       "      <td>0.0</td>\n",
       "    </tr>\n",
       "  </tbody>\n",
       "</table>\n",
       "<p>5 rows × 502 columns</p>\n",
       "</div>"
      ],
      "text/plain": [
       "           id   age  gender_FEMALE  gender_MALE  gender_missing  \\\n",
       "0  gxn3p5htnn  -1.0              0            0               1   \n",
       "1  820tgsjxq7  38.0              0            1               0   \n",
       "2  4ft3gnwmtx  56.0              1            0               0   \n",
       "3  bjjt8pjhuk  42.0              1            0               0   \n",
       "4  87mebub9p4  41.0              0            0               1   \n",
       "\n",
       "   signup_method_basic  signup_method_facebook  signup_method_google  \\\n",
       "0                    0                       1                     0   \n",
       "1                    0                       1                     0   \n",
       "2                    1                       0                     0   \n",
       "3                    0                       1                     0   \n",
       "4                    1                       0                     0   \n",
       "\n",
       "   signup_method_weibo  signup_flow_0     ...      view_resolutions  \\\n",
       "0                    0              1     ...                   0.0   \n",
       "1                    0              1     ...                   0.0   \n",
       "2                    0              0     ...                   0.0   \n",
       "3                    0              1     ...                   0.0   \n",
       "4                    0              1     ...                   0.0   \n",
       "\n",
       "   view_search_results  view_security_checks  view_user_real_names  wishlist  \\\n",
       "0                  0.0                   0.0                   0.0       0.0   \n",
       "1                  0.0                   0.0                   0.0       0.0   \n",
       "2                  0.0                   0.0                   0.0       0.0   \n",
       "3                  0.0                   0.0                   0.0       0.0   \n",
       "4                  0.0                   0.0                   0.0       0.0   \n",
       "\n",
       "   wishlist_content_update  wishlist_note  your_listings  your_reservations  \\\n",
       "0                      0.0            0.0            0.0                0.0   \n",
       "1                      0.0            0.0            0.0                0.0   \n",
       "2                      0.0            0.0            0.0                0.0   \n",
       "3                      0.0            0.0            0.0                0.0   \n",
       "4                      0.0            0.0            0.0                0.0   \n",
       "\n",
       "   your_trips  \n",
       "0         0.0  \n",
       "1         0.0  \n",
       "2         0.0  \n",
       "3         0.0  \n",
       "4         0.0  \n",
       "\n",
       "[5 rows x 502 columns]"
      ]
     },
     "execution_count": 33,
     "metadata": {},
     "output_type": "execute_result"
    }
   ],
   "source": [
    "# fill NaNs in sessions data\n",
    "pivot_uu.fillna(0,inplace=True)\n",
    "# left join sessions data to user data\n",
    "data_merged = pd.merge(left=data, right=pivot_uu, how='left', left_on='id', right_on='user_id')\n",
    "# fill in nulls after the left join\n",
    "data_merged = data_merged.fillna(0)\n",
    "data_merged.drop('user_id', axis=1,inplace=True)\n",
    "data_merged.head()"
   ]
  },
  {
   "cell_type": "code",
   "execution_count": 34,
   "metadata": {
    "collapsed": true
   },
   "outputs": [],
   "source": [
    "#Split data back into train and test sets\n",
    "vals = data_merged.drop(['id'], axis=1).values\n",
    "#piv_train = train.shape[0]\n",
    "X = vals[:data_train_len]\n",
    "X_test = vals[data_train_len:]\n",
    "\n",
    "# Create numeric label for each of the 12 target labels\n",
    "labels = target.values\n",
    "le = LabelEncoder()\n",
    "y = le.fit_transform(labels)\n",
    "truth = pd.Series(le.inverse_transform(y))"
   ]
  },
  {
   "cell_type": "code",
   "execution_count": 35,
   "metadata": {},
   "outputs": [
    {
     "name": "stdout",
     "output_type": "stream",
     "text": [
      "XGBClassifier :\n",
      "\n",
      "training time (min): 8.14116666667\n",
      "prediction time (sec): 4.758\n",
      "NDCG score: 0.832246467537\n",
      "             precision    recall  f1-score   support\n",
      "\n",
      "          0       0.00      0.00      0.00       539\n",
      "          1       0.00      0.00      0.00      1428\n",
      "          2       0.00      0.00      0.00      1061\n",
      "          3       0.00      0.00      0.00      2249\n",
      "          4       0.86      0.00      0.00      5023\n",
      "          5       0.00      0.00      0.00      2324\n",
      "          6       1.00      0.00      0.00      2835\n",
      "          7       0.70      0.86      0.77    124543\n",
      "          8       0.00      0.00      0.00       762\n",
      "          9       0.00      0.00      0.00       217\n",
      "         10       0.51      0.50      0.50     62376\n",
      "         11       0.25      0.00      0.00     10094\n",
      "\n",
      "avg / total       0.61      0.65      0.60    213451\n",
      "\n"
     ]
    }
   ],
   "source": [
    "clf = XGBClassifier(objective='multi:softprob', seed=10)\n",
    "train_predict(clf, X, y, X_test)"
   ]
  },
  {
   "cell_type": "code",
   "execution_count": 30,
   "metadata": {},
   "outputs": [
    {
     "name": "stdout",
     "output_type": "stream",
     "text": [
      "XGBClassifier(base_score=0.5, colsample_bylevel=1, colsample_bytree=1,\n",
      "       gamma=0, learning_rate=0.1, max_delta_step=0, max_depth=3,\n",
      "       min_child_weight=1, missing=None, n_estimators=100, nthread=-1,\n",
      "       objective='multi:softprob', reg_alpha=0, reg_lambda=1,\n",
      "       scale_pos_weight=1, seed=10, silent=True, subsample=1)\n"
     ]
    }
   ],
   "source": [
    "print clf"
   ]
  },
  {
   "cell_type": "markdown",
   "metadata": {},
   "source": [
    "## xgboost+gridsearch"
   ]
  },
  {
   "cell_type": "code",
   "execution_count": 21,
   "metadata": {},
   "outputs": [
    {
     "name": "stdout",
     "output_type": "stream",
     "text": [
      "fitting time (sec): 58205.625\n"
     ]
    }
   ],
   "source": [
    "param_grid = {'max_depth' : [3,6,9], 'learning_rate': [0.05, 0.1, 0.25], 'n_estimators': [50, 100, 200]}\n",
    "\n",
    "# get the classifier\n",
    "clf = XGBClassifier(objective='multi:softprob', seed=10)\n",
    "\n",
    "#initiating grid search\n",
    "reg = GridSearchCV(clf, param_grid, scoring=ndcg_scorer)\n",
    "\n",
    "# fit the model\n",
    "start = datetime.utcnow() # Get start time\n",
    "reg.fit(X, y)\n",
    "end = datetime.utcnow() # Get end time\n",
    "# Calculate the total time\n",
    "print 'fitting time (sec):', (end-start).total_seconds()"
   ]
  },
  {
   "cell_type": "code",
   "execution_count": 52,
   "metadata": {},
   "outputs": [
    {
     "name": "stdout",
     "output_type": "stream",
     "text": [
      "XGBClassifier(base_score=0.5, colsample_bylevel=1, colsample_bytree=1,\n",
      "       gamma=0, learning_rate=0.05, max_delta_step=0, max_depth=3,\n",
      "       min_child_weight=1, missing=None, n_estimators=50, nthread=-1,\n",
      "       objective='multi:softprob', reg_alpha=0, reg_lambda=1,\n",
      "       scale_pos_weight=1, seed=10, silent=True, subsample=1)\n"
     ]
    }
   ],
   "source": [
    "## get the best predictor\n",
    "est = reg.best_estimator_\n",
    "print(est)\n",
    "\n",
    "\n",
    "# Make predictions using the optimized and model\n",
    "best_predictions = est.predict(X_test)"
   ]
  },
  {
   "cell_type": "code",
   "execution_count": 53,
   "metadata": {},
   "outputs": [
    {
     "name": "stderr",
     "output_type": "stream",
     "text": [
      "C:\\Users\\Vladimir\\Anaconda2\\lib\\site-packages\\sklearn\\model_selection\\_search.py:667: DeprecationWarning: The grid_scores_ attribute was deprecated in version 0.18 in favor of the more elaborate cv_results_ attribute. The grid_scores_ attribute will not be available from 0.20\n",
      "  DeprecationWarning)\n"
     ]
    },
    {
     "data": {
      "text/plain": [
       "[mean: 0.68473, std: 0.04721, params: {'n_estimators': 50, 'learning_rate': 0.05, 'max_depth': 3},\n",
       " mean: 0.68328, std: 0.04306, params: {'n_estimators': 100, 'learning_rate': 0.05, 'max_depth': 3},\n",
       " mean: 0.68007, std: 0.05620, params: {'n_estimators': 200, 'learning_rate': 0.05, 'max_depth': 3},\n",
       " mean: 0.63554, std: 0.03675, params: {'n_estimators': 50, 'learning_rate': 0.05, 'max_depth': 6},\n",
       " mean: 0.62089, std: 0.03630, params: {'n_estimators': 100, 'learning_rate': 0.05, 'max_depth': 6},\n",
       " mean: 0.59937, std: 0.03360, params: {'n_estimators': 200, 'learning_rate': 0.05, 'max_depth': 6},\n",
       " mean: 0.59733, std: 0.04040, params: {'n_estimators': 50, 'learning_rate': 0.05, 'max_depth': 9},\n",
       " mean: 0.59002, std: 0.04028, params: {'n_estimators': 100, 'learning_rate': 0.05, 'max_depth': 9},\n",
       " mean: 0.56966, std: 0.05089, params: {'n_estimators': 200, 'learning_rate': 0.05, 'max_depth': 9},\n",
       " mean: 0.68142, std: 0.04411, params: {'n_estimators': 50, 'learning_rate': 0.1, 'max_depth': 3},\n",
       " mean: 0.67877, std: 0.05685, params: {'n_estimators': 100, 'learning_rate': 0.1, 'max_depth': 3},\n",
       " mean: 0.64608, std: 0.05209, params: {'n_estimators': 200, 'learning_rate': 0.1, 'max_depth': 3},\n",
       " mean: 0.62338, std: 0.03989, params: {'n_estimators': 50, 'learning_rate': 0.1, 'max_depth': 6},\n",
       " mean: 0.60316, std: 0.03892, params: {'n_estimators': 100, 'learning_rate': 0.1, 'max_depth': 6},\n",
       " mean: 0.58274, std: 0.04444, params: {'n_estimators': 200, 'learning_rate': 0.1, 'max_depth': 6},\n",
       " mean: 0.59403, std: 0.04873, params: {'n_estimators': 50, 'learning_rate': 0.1, 'max_depth': 9},\n",
       " mean: 0.57646, std: 0.05507, params: {'n_estimators': 100, 'learning_rate': 0.1, 'max_depth': 9},\n",
       " mean: 0.55962, std: 0.06704, params: {'n_estimators': 200, 'learning_rate': 0.1, 'max_depth': 9},\n",
       " mean: 0.67570, std: 0.06395, params: {'n_estimators': 50, 'learning_rate': 0.25, 'max_depth': 3},\n",
       " mean: 0.63620, std: 0.05386, params: {'n_estimators': 100, 'learning_rate': 0.25, 'max_depth': 3},\n",
       " mean: 0.61678, std: 0.05719, params: {'n_estimators': 200, 'learning_rate': 0.25, 'max_depth': 3},\n",
       " mean: 0.60491, std: 0.04624, params: {'n_estimators': 50, 'learning_rate': 0.25, 'max_depth': 6},\n",
       " mean: 0.58132, std: 0.05076, params: {'n_estimators': 100, 'learning_rate': 0.25, 'max_depth': 6},\n",
       " mean: 0.56056, std: 0.06422, params: {'n_estimators': 200, 'learning_rate': 0.25, 'max_depth': 6},\n",
       " mean: 0.56659, std: 0.05332, params: {'n_estimators': 50, 'learning_rate': 0.25, 'max_depth': 9},\n",
       " mean: 0.55901, std: 0.06705, params: {'n_estimators': 100, 'learning_rate': 0.25, 'max_depth': 9},\n",
       " mean: 0.56126, std: 0.07897, params: {'n_estimators': 200, 'learning_rate': 0.25, 'max_depth': 9}]"
      ]
     },
     "execution_count": 53,
     "metadata": {},
     "output_type": "execute_result"
    }
   ],
   "source": [
    "reg.grid_scores_"
   ]
  },
  {
   "cell_type": "code",
   "execution_count": 58,
   "metadata": {
    "scrolled": false
   },
   "outputs": [
    {
     "data": {
      "text/plain": [
       "{'mean_fit_time': array([   161.15099994,    324.18866666,    640.40266665,    308.20800002,\n",
       "           605.68466671,   1178.36500001,    433.02966674,    865.41766667,\n",
       "          1727.90433335,    151.61099998,    300.33666666,    601.31033325,\n",
       "           291.454     ,    578.98333327,  44838.77400001,    480.90233326,\n",
       "           916.23866661,   1829.11766664,    155.08166671,    301.69000006,\n",
       "           634.32333334,    291.92799997,    579.46633331,   1155.65633329,\n",
       "           470.66933338,    899.06166681,   1842.54000004]),\n",
       " 'mean_score_time': array([ 3.27433332,  3.52933335,  4.57699998,  3.50900006,  4.05433337,\n",
       "         5.22066665,  3.59466664,  4.45633332,  7.84333332,  3.25799998,\n",
       "         3.55966663,  4.17600012,  3.4216667 ,  3.97233335,  5.40799999,\n",
       "         3.72600007,  4.67566673,  7.16400003,  3.21966656,  3.42400002,\n",
       "         4.60566672,  3.29633339,  3.74633336,  4.82300011,  3.70933326,\n",
       "         4.3866667 ,  7.0696667 ]),\n",
       " 'mean_test_score': array([ 0.68473359,  0.68328489,  0.68007108,  0.63553579,  0.62088527,\n",
       "         0.59936534,  0.59733395,  0.59001601,  0.56965696,  0.68142483,\n",
       "         0.67876714,  0.64608102,  0.62337552,  0.60316143,  0.58274218,\n",
       "         0.59403005,  0.57646132,  0.55962238,  0.6756955 ,  0.63619632,\n",
       "         0.61677872,  0.60490902,  0.58132147,  0.56056184,  0.56658613,\n",
       "         0.55900694,  0.56125818]),\n",
       " 'mean_train_score': array([ 0.8326925 ,  0.83503126,  0.83769751,  0.84003401,  0.84353838,\n",
       "         0.84807911,  0.84949402,  0.8558715 ,  0.86383093,  0.83539169,\n",
       "         0.83794895,  0.84078145,  0.84357936,  0.84820941,  0.85388592,\n",
       "         0.85605993,  0.8641513 ,  0.87338944,  0.8389298 ,  0.84189302,\n",
       "         0.84532111,  0.85000008,  0.85671376,  0.86666606,  0.86733535,\n",
       "         0.8792031 ,  0.89822988]),\n",
       " 'param_learning_rate': masked_array(data = [0.05 0.05 0.05 0.05 0.05 0.05 0.05 0.05 0.05 0.1 0.1 0.1 0.1 0.1 0.1 0.1\n",
       "  0.1 0.1 0.25 0.25 0.25 0.25 0.25 0.25 0.25 0.25 0.25],\n",
       "              mask = [False False False False False False False False False False False False\n",
       "  False False False False False False False False False False False False\n",
       "  False False False],\n",
       "        fill_value = ?),\n",
       " 'param_max_depth': masked_array(data = [3 3 3 6 6 6 9 9 9 3 3 3 6 6 6 9 9 9 3 3 3 6 6 6 9 9 9],\n",
       "              mask = [False False False False False False False False False False False False\n",
       "  False False False False False False False False False False False False\n",
       "  False False False],\n",
       "        fill_value = ?),\n",
       " 'param_n_estimators': masked_array(data = [50 100 200 50 100 200 50 100 200 50 100 200 50 100 200 50 100 200 50 100\n",
       "  200 50 100 200 50 100 200],\n",
       "              mask = [False False False False False False False False False False False False\n",
       "  False False False False False False False False False False False False\n",
       "  False False False],\n",
       "        fill_value = ?),\n",
       " 'params': ({'learning_rate': 0.05, 'max_depth': 3, 'n_estimators': 50},\n",
       "  {'learning_rate': 0.05, 'max_depth': 3, 'n_estimators': 100},\n",
       "  {'learning_rate': 0.05, 'max_depth': 3, 'n_estimators': 200},\n",
       "  {'learning_rate': 0.05, 'max_depth': 6, 'n_estimators': 50},\n",
       "  {'learning_rate': 0.05, 'max_depth': 6, 'n_estimators': 100},\n",
       "  {'learning_rate': 0.05, 'max_depth': 6, 'n_estimators': 200},\n",
       "  {'learning_rate': 0.05, 'max_depth': 9, 'n_estimators': 50},\n",
       "  {'learning_rate': 0.05, 'max_depth': 9, 'n_estimators': 100},\n",
       "  {'learning_rate': 0.05, 'max_depth': 9, 'n_estimators': 200},\n",
       "  {'learning_rate': 0.1, 'max_depth': 3, 'n_estimators': 50},\n",
       "  {'learning_rate': 0.1, 'max_depth': 3, 'n_estimators': 100},\n",
       "  {'learning_rate': 0.1, 'max_depth': 3, 'n_estimators': 200},\n",
       "  {'learning_rate': 0.1, 'max_depth': 6, 'n_estimators': 50},\n",
       "  {'learning_rate': 0.1, 'max_depth': 6, 'n_estimators': 100},\n",
       "  {'learning_rate': 0.1, 'max_depth': 6, 'n_estimators': 200},\n",
       "  {'learning_rate': 0.1, 'max_depth': 9, 'n_estimators': 50},\n",
       "  {'learning_rate': 0.1, 'max_depth': 9, 'n_estimators': 100},\n",
       "  {'learning_rate': 0.1, 'max_depth': 9, 'n_estimators': 200},\n",
       "  {'learning_rate': 0.25, 'max_depth': 3, 'n_estimators': 50},\n",
       "  {'learning_rate': 0.25, 'max_depth': 3, 'n_estimators': 100},\n",
       "  {'learning_rate': 0.25, 'max_depth': 3, 'n_estimators': 200},\n",
       "  {'learning_rate': 0.25, 'max_depth': 6, 'n_estimators': 50},\n",
       "  {'learning_rate': 0.25, 'max_depth': 6, 'n_estimators': 100},\n",
       "  {'learning_rate': 0.25, 'max_depth': 6, 'n_estimators': 200},\n",
       "  {'learning_rate': 0.25, 'max_depth': 9, 'n_estimators': 50},\n",
       "  {'learning_rate': 0.25, 'max_depth': 9, 'n_estimators': 100},\n",
       "  {'learning_rate': 0.25, 'max_depth': 9, 'n_estimators': 200}),\n",
       " 'rank_test_score': array([ 1,  2,  4,  9, 11, 15, 16, 18, 22,  3,  5,  7, 10, 14, 19, 17, 21,\n",
       "        26,  6,  8, 12, 13, 20, 25, 23, 27, 24]),\n",
       " 'split0_test_score': array([ 0.66990231,  0.64940346,  0.60206714,  0.59274819,  0.57288197,\n",
       "         0.55253656,  0.54021987,  0.53308513,  0.49872781,  0.64248195,\n",
       "         0.59865977,  0.57615679,  0.57192323,  0.54814828,  0.52294245,\n",
       "         0.52670106,  0.49860246,  0.46573854,  0.58549194,  0.56300639,\n",
       "         0.53729837,  0.54033448,  0.50996514,  0.47327292,  0.49217317,\n",
       "         0.466371  ,  0.45344398]),\n",
       " 'split0_train_score': array([ 0.83812134,  0.84129355,  0.84497785,  0.84734959,  0.85132983,\n",
       "         0.85631155,  0.8572402 ,  0.86485643,  0.8737144 ,  0.84198243,\n",
       "         0.84524779,  0.8484921 ,  0.85127444,  0.856343  ,  0.86260482,\n",
       "         0.86526688,  0.87409993,  0.88358142,  0.84646883,  0.84969641,\n",
       "         0.85375882,  0.85846477,  0.8657556 ,  0.87618171,  0.87722217,\n",
       "         0.88905349,  0.90647051]),\n",
       " 'split1_test_score': array([ 0.7485176 ,  0.74404275,  0.73228487,  0.68247904,  0.66065962,\n",
       "         0.61581979,  0.62484162,  0.62025761,  0.59457623,  0.7430941 ,\n",
       "         0.72467486,  0.70111684,  0.66913189,  0.63204221,  0.59592203,\n",
       "         0.64042026,  0.61701758,  0.59512774,  0.72644702,  0.69104329,\n",
       "         0.66948835,  0.64614516,  0.61026275,  0.58248294,  0.59323514,\n",
       "         0.58782352,  0.58996863]),\n",
       " 'split1_train_score': array([ 0.83493868,  0.83734101,  0.84027424,  0.84368792,  0.84800566,\n",
       "         0.85323755,  0.85412095,  0.86106742,  0.86996443,  0.83774801,\n",
       "         0.84075519,  0.84450508,  0.84806553,  0.85348221,  0.85972975,\n",
       "         0.86094767,  0.87020015,  0.8802961 ,  0.84180635,  0.84569338,\n",
       "         0.84981294,  0.85548757,  0.86261202,  0.87312005,  0.87380212,\n",
       "         0.88617416,  0.90377443]),\n",
       " 'split2_test_score': array([ 0.63577805,  0.65640802,  0.70586633,  0.63138164,  0.62911683,\n",
       "         0.62974379,  0.62694484,  0.61670956,  0.61567308,  0.65869849,\n",
       "         0.71297258,  0.66097342,  0.62907402,  0.62929797,  0.62936785,\n",
       "         0.61497313,  0.61376982,  0.61800893,  0.71515411,  0.65454364,\n",
       "         0.64355467,  0.62825179,  0.62374253,  0.62593792,  0.61435658,\n",
       "         0.6228347 ,  0.64037204]),\n",
       " 'split2_train_score': array([ 0.82501748,  0.82645921,  0.82784045,  0.82906452,  0.83127965,\n",
       "         0.83468822,  0.83712091,  0.84169065,  0.84781397,  0.82644464,\n",
       "         0.82784386,  0.82934718,  0.8313981 ,  0.83480302,  0.8393232 ,\n",
       "         0.84196523,  0.84815382,  0.85629082,  0.82851421,  0.83028928,\n",
       "         0.83239157,  0.83604789,  0.84177365,  0.85069644,  0.85098178,\n",
       "         0.86238167,  0.88444469]),\n",
       " 'std_fit_time': array([  2.87372311e+00,   3.72386033e+00,   8.26415553e+00,\n",
       "          1.35786771e+00,   9.02588832e+00,   2.43965873e+01,\n",
       "          2.94296634e+00,   4.40117329e+00,   1.02786660e+01,\n",
       "          6.60157972e-01,   1.53187563e+00,   3.07675310e+00,\n",
       "          8.36378354e-01,   3.33823939e+00,   6.17685726e+04,\n",
       "          1.18696400e+01,   1.59135835e+01,   8.88603107e+00,\n",
       "          2.17796337e+00,   1.44115024e+00,   2.16240905e+01,\n",
       "          2.38577334e+00,   3.30253791e+00,   4.75237141e+00,\n",
       "          7.69667591e+00,   1.53564288e+01,   4.28555188e+01]),\n",
       " 'std_score_time': array([ 0.18116903,  0.01532606,  0.30519609,  0.1328559 ,  0.12998546,\n",
       "         0.19161822,  0.11201595,  0.03812553,  1.61073369,  0.17511323,\n",
       "         0.16923623,  0.21866414,  0.1487511 ,  0.12351072,  0.28888402,\n",
       "         0.11438828,  0.07898659,  0.9798177 ,  0.11856456,  0.00571558,\n",
       "         0.50970211,  0.05456703,  0.02288141,  0.02140089,  0.1575528 ,\n",
       "         0.12132697,  0.41693358]),\n",
       " 'std_test_score': array([ 0.04720493,  0.04305766,  0.05620376,  0.03675059,  0.03630521,\n",
       "         0.03359858,  0.04039644,  0.04028381,  0.05089051,  0.04410675,\n",
       "         0.05684776,  0.05209092,  0.03988989,  0.03891781,  0.04443618,\n",
       "         0.04873084,  0.05507262,  0.06704241,  0.0639524 ,  0.05385742,\n",
       "         0.05719176,  0.04624346,  0.05075769,  0.06422372,  0.05332175,\n",
       "         0.06704724,  0.07896713]),\n",
       " 'std_train_score': array([ 0.00558043,  0.00627246,  0.00722968,  0.00789934,  0.00877382,\n",
       "         0.00955159,  0.00884129,  0.01014599,  0.0114287 ,  0.00655845,\n",
       "         0.00737701,  0.00824746,  0.0087125 ,  0.00955142,  0.01036408,\n",
       "         0.01012124,  0.01142342,  0.01216472,  0.00760693,  0.00836625,\n",
       "         0.0092834 ,  0.00994028,  0.01064192,  0.0113612 ,  0.01164771,\n",
       "         0.0119525 ,  0.00980954])}"
      ]
     },
     "execution_count": 58,
     "metadata": {},
     "output_type": "execute_result"
    }
   ],
   "source": [
    "\n",
    "reg.cv_results_"
   ]
  },
  {
   "cell_type": "code",
   "execution_count": 25,
   "metadata": {
    "scrolled": false
   },
   "outputs": [
    {
     "name": "stdout",
     "output_type": "stream",
     "text": [
      "NDCG score: 0.829469688931\n",
      "             precision    recall  f1-score   support\n",
      "\n",
      "          0       0.00      0.00      0.00       539\n",
      "          1       1.00      0.00      0.00      1428\n",
      "          2       0.00      0.00      0.00      1061\n",
      "          3       0.00      0.00      0.00      2249\n",
      "          4       0.00      0.00      0.00      5023\n",
      "          5       0.00      0.00      0.00      2324\n",
      "          6       1.00      0.00      0.00      2835\n",
      "          7       0.71      0.85      0.77    124543\n",
      "          8       0.00      0.00      0.00       762\n",
      "          9       0.00      0.00      0.00       217\n",
      "         10       0.50      0.52      0.51     62376\n",
      "         11       0.00      0.00      0.00     10094\n",
      "\n",
      "avg / total       0.58      0.64      0.60    213451\n",
      "\n"
     ]
    },
    {
     "name": "stderr",
     "output_type": "stream",
     "text": [
      "C:\\Users\\Vladimir\\Anaconda2\\lib\\site-packages\\sklearn\\metrics\\classification.py:1113: UndefinedMetricWarning: Precision and F-score are ill-defined and being set to 0.0 in labels with no predicted samples.\n",
      "  'precision', 'predicted', average, warn_for)\n"
     ]
    }
   ],
   "source": [
    "#Making predictions on training set\n",
    "y_pred_train = est.predict_proba(X)\n",
    "truth = pd.Series(le.inverse_transform(y))\n",
    "preds = []\n",
    "\n",
    "for i in range(len(X)):\n",
    "    preds += [le.inverse_transform(np.argsort(y_pred_train[i])[::-1])[:5].tolist()]\n",
    "\n",
    "preds = pd.DataFrame(preds)\n",
    "print 'NDCG score:',  str(score_predictions(preds, truth))\n",
    "   \n",
    "print classification_report(y, np.argmax(y_pred_train, axis=1))\n",
    "    \n",
    "# make predictions on test set\n",
    "y_pred_test = est.predict_proba(X_test)\n",
    "id_test = data_test['id']\n",
    "# Taking the 5 classes with highest probabilities\n",
    "ids = []  #list of ids\n",
    "cts = []  #list of countries\n",
    "for i in range(len(id_test)):\n",
    "    idx = id_test[i]\n",
    "    ids += [idx] * 5\n",
    "    cts += le.inverse_transform(np.argsort(y_pred_test[i])[::-1])[:5].tolist()\n",
    "\n",
    "sub = pd.DataFrame(np.column_stack((ids, cts)), columns=['id', 'country'])\n",
    "name='best_xgboost2'+'.csv'\n",
    "sub.to_csv(name,index=False)"
   ]
  },
  {
   "cell_type": "markdown",
   "metadata": {},
   "source": [
    "## IV. Results\n",
    "### Model Evaluation and Validation"
   ]
  },
  {
   "cell_type": "code",
   "execution_count": null,
   "metadata": {
    "collapsed": true
   },
   "outputs": [],
   "source": [
    "from numpy.random import random\n",
    "#import random\n",
    "#Generating noise\n",
    "noise=np.random.random(data_train_len)*0.05\n",
    "#Adding noise to 'age'\n",
    "X[:,0]=X[:,0]+noise"
   ]
  },
  {
   "cell_type": "code",
   "execution_count": null,
   "metadata": {
    "collapsed": true
   },
   "outputs": [],
   "source": [
    "#Creating user numbers to delete randomly \n",
    "ran_ind=random.sample(range(0,data_train_len),10675)\n",
    "X_cut=np.delete(X,ran_ind,0)#Getting the classifier\n",
    "clf = XGBClassifier(objective='multi:softprob', seed=10)\n",
    "train_predict(clf, X_cut, y_cut, X_test)\n",
    "y_cut=np.delete(y,ran_ind,0)"
   ]
  },
  {
   "cell_type": "code",
   "execution_count": 99,
   "metadata": {},
   "outputs": [
    {
     "name": "stdout",
     "output_type": "stream",
     "text": [
      "XGBClassifier :\n",
      "\n",
      "training time (min): 7.69171666667\n",
      "prediction time (sec): 3.919\n",
      "NDCG score: 0.83237573164\n",
      "             precision    recall  f1-score   support\n",
      "\n",
      "          0       0.00      0.00      0.00       510\n",
      "          1       1.00      0.00      0.00      1344\n",
      "          2       0.00      0.00      0.00      1010\n",
      "          3       0.00      0.00      0.00      2144\n",
      "          4       0.80      0.00      0.00      4776\n",
      "          5       0.00      0.00      0.00      2224\n",
      "          6       1.00      0.00      0.00      2698\n",
      "          7       0.70      0.86      0.78    118266\n",
      "          8       0.00      0.00      0.00       720\n",
      "          9       0.00      0.00      0.00       208\n",
      "         10       0.51      0.50      0.50     59283\n",
      "         11       0.33      0.00      0.00      9593\n",
      "\n",
      "avg / total       0.61      0.65      0.60    202776\n",
      "\n"
     ]
    },
    {
     "name": "stderr",
     "output_type": "stream",
     "text": [
      "C:\\Users\\Vladimir\\Anaconda2\\lib\\site-packages\\sklearn\\metrics\\classification.py:1113: UndefinedMetricWarning: Precision and F-score are ill-defined and being set to 0.0 in labels with no predicted samples.\n",
      "  'precision', 'predicted', average, warn_for)\n"
     ]
    }
   ],
   "source": [
    "#Getting the classifier\n",
    "clf = XGBClassifier(objective='multi:softprob', seed=10)\n",
    "train_predict(clf, X_cut, y_cut, X_test)"
   ]
  },
  {
   "cell_type": "markdown",
   "metadata": {},
   "source": [
    "### Justification"
   ]
  },
  {
   "cell_type": "code",
   "execution_count": 65,
   "metadata": {},
   "outputs": [
    {
     "name": "stdout",
     "output_type": "stream",
     "text": [
      "Our solution falls in top 17.6349965824% of the solutions on Kaggle.\n"
     ]
    }
   ],
   "source": [
    "kaggle_scores=np.genfromtxt('kaggle_scores.csv', delimiter=',')\n",
    "from __future__ import division #makes the / operator to perform a float division \n",
    "threshold_val=0.88249\n",
    "#Calculating the percentile value corresponding to scores on Kaggle exceeding our best score\n",
    "count_vals = sum(i >= threshold_val for i in kaggle_scores)\n",
    "percentile_val = 100 * (float(count_vals)/len(kaggle_scores))\n",
    "print 'Our solution falls in top {}% of the solutions on Kaggle.'.format(percentile_val)"
   ]
  },
  {
   "cell_type": "markdown",
   "metadata": {},
   "source": [
    "## V. Conclusion\n",
    "\n",
    "### Free-Form Visualization"
   ]
  },
  {
   "cell_type": "code",
   "execution_count": 36,
   "metadata": {
    "collapsed": true
   },
   "outputs": [],
   "source": [
    "sns.set_context(\"poster\", font_scale=0.9)\n",
    "result = pd.read_csv('XGBClassifier-sessions.csv')"
   ]
  },
  {
   "cell_type": "code",
   "execution_count": 37,
   "metadata": {},
   "outputs": [
    {
     "data": {
      "image/png": "[encoded data removed]",
      "text/plain": [
       "<matplotlib.figure.Figure at 0x1977c9e8>"
      ]
     },
     "metadata": {},
     "output_type": "display_data"
    }
   ],
   "source": [
    "plt.figure(0)\n",
    "ax1 = plt.subplot2grid((3,2), (0,0))\n",
    "plt.ylabel('Frequency')\n",
    "plt.text(2,0.7,'most probable')\n",
    "ax2 = plt.subplot2grid((3,2), (0,1))\n",
    "plt.ylabel('Frequency')\n",
    "plt.text(3,0.7,'second probable')\n",
    "ax2.yaxis.set_label_position(\"right\")\n",
    "ax3 = plt.subplot2grid((3,2), (1,0))\n",
    "plt.xlabel('Country')\n",
    "plt.ylabel('Frequency')\n",
    "plt.text(5.5,0.8,'third probable')\n",
    "ax4 = plt.subplot2grid((3,2), (1,1))\n",
    "plt.ylabel('Frequency')\n",
    "plt.xlabel('Country')\n",
    "ax4.yaxis.set_label_position(\"right\")\n",
    "plt.text(5.5,0.7,'forth probable')\n",
    "ax5 = plt.subplot2grid((3,2), (2,0))\n",
    "plt.xlabel('Country')\n",
    "plt.ylabel('Frequency')\n",
    "plt.text(5.5,0.5,'least probable')\n",
    "\n",
    "plt.suptitle('Frequencies of the predicted countries')\n",
    "\n",
    "result.country[0::5].value_counts(normalize=True).plot(kind='bar', rot=0,ax=ax1)\n",
    "result.country[1::5].value_counts(normalize=True).plot(kind='bar', rot=0,ax=ax2)\n",
    "result.country[2::5].value_counts(normalize=True).plot(kind='bar', rot=0,ax=ax3)\n",
    "result.country[3::5].value_counts(normalize=True).plot(kind='bar', rot=0,ax=ax4)\n",
    "result.country[4::5].value_counts(normalize=True).plot(kind='bar', rot=0,ax=ax5)\n",
    "\n",
    "\n",
    "plt.show()"
   ]
  },
  {
   "cell_type": "code",
   "execution_count": 38,
   "metadata": {},
   "outputs": [
    {
     "name": "stdout",
     "output_type": "stream",
     "text": [
      "NDCG score for most frequent countries: 0.806765442038\n"
     ]
    }
   ],
   "source": [
    "top_countries=target.value_counts()[0:5].index.tolist()\n",
    "preds=[]\n",
    "for i in range(X.shape[0]):\n",
    "    preds+=[top_countries]\n",
    "preds = pd.DataFrame(preds)\n",
    "print 'NDCG score for most frequent countries:',  str(score_predictions(preds, truth))"
   ]
  },
  {
   "cell_type": "code",
   "execution_count": 39,
   "metadata": {
    "collapsed": true
   },
   "outputs": [],
   "source": [
    "#Preparing submission to Kaggle - most frequent countries\n",
    "id_test = data_test['id']\n",
    "ids = []  #list of ids\n",
    "cts = []  #list of countries\n",
    "for i in range(len(id_test)): \n",
    "    idx = id_test[i]\n",
    "    ids += [idx] * 5\n",
    "cts+=target.value_counts()[0:5].index.tolist()*len(id_test)\n",
    "sub = pd.DataFrame(np.column_stack((ids, cts)), columns=['id', 'country'])\n",
    "name='benchmark.csv'\n",
    "sub.to_csv(name,index=False)"
   ]
  }
 ],
 "metadata": {
  "kernelspec": {
   "display_name": "Python 2",
   "language": "python",
   "name": "python2"
  },
  "language_info": {
   "codemirror_mode": {
    "name": "ipython",
    "version": 2
   },
   "file_extension": ".py",
   "mimetype": "text/x-python",
   "name": "python",
   "nbconvert_exporter": "python",
   "pygments_lexer": "ipython2",
   "version": "2.7.13"
  }
 },
 "nbformat": 4,
 "nbformat_minor": 1
}
